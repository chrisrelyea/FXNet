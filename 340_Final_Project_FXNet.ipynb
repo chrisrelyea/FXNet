{
  "nbformat": 4,
  "nbformat_minor": 0,
  "metadata": {
    "colab": {
      "provenance": [],
      "gpuType": "A100"
    },
    "kernelspec": {
      "name": "python3",
      "display_name": "Python 3"
    },
    "language_info": {
      "name": "python"
    },
    "accelerator": "GPU"
  },
  "cells": [
    {
      "cell_type": "markdown",
      "source": [
        "# **FXNet: A Convolutional Neural Network for Detection of Audio Effects** 🔊 🎧 🎵\n",
        "\n",
        "Chris Relyea\n",
        "\n",
        "Final Project for DS340"
      ],
      "metadata": {
        "id": "0YGuMIK6GLlW"
      }
    },
    {
      "cell_type": "markdown",
      "source": [
        "# Data Collection\n",
        "Click [here](https://drive.google.com/file/d/10mnlvOdazwdqfgkJs1-eVklXKqXH2-uZ/view?usp=sharing) to view the Python script that was mentioned in the project report. This was used with the Reaper DAW to generate 4112 processed audio files for model training."
      ],
      "metadata": {
        "id": "jS4Wk8GYhU1K"
      }
    },
    {
      "cell_type": "markdown",
      "source": [
        "# Setup and Customization"
      ],
      "metadata": {
        "id": "h42I1aXSG7fN"
      }
    },
    {
      "cell_type": "code",
      "execution_count": null,
      "metadata": {
        "colab": {
          "base_uri": "https://localhost:8080/"
        },
        "id": "N2MYveKXdVWM",
        "outputId": "7d9057c3-4b76-43e0-de88-07a4451b7858"
      },
      "outputs": [
        {
          "output_type": "stream",
          "name": "stdout",
          "text": [
            "Mounted at /content/drive\n"
          ]
        }
      ],
      "source": [
        "from google.colab import drive\n",
        "import os\n",
        "from tqdm import tqdm\n",
        "import time\n",
        "import random\n",
        "import numpy as np\n",
        "from sklearn.metrics import classification_report\n",
        "from sklearn.model_selection import train_test_split\n",
        "from sklearn.metrics import f1_score, precision_score, recall_score, accuracy_score\n",
        "import librosa\n",
        "import torch\n",
        "import torch.nn as nn\n",
        "import torch.optim as optim\n",
        "import shutil\n",
        "from torch.utils.data import Dataset, DataLoader, random_split\n",
        "\n",
        "\n",
        "\n",
        "drive.mount('/content/drive')\n",
        "\n",
        "device = torch.device(\"cuda\" if torch.cuda.is_available() else \"cpu\")"
      ]
    },
    {
      "cell_type": "markdown",
      "source": [
        "Run this block to copy training data from Google Drive into Colab local storage. Greatly reduces time to process WAVs into Mel Spectrograms:"
      ],
      "metadata": {
        "id": "TQocWjQM8xPf"
      }
    },
    {
      "cell_type": "code",
      "source": [
        "shutil.copytree('/content/drive/MyDrive/output2', '/content/output2')\n"
      ],
      "metadata": {
        "colab": {
          "base_uri": "https://localhost:8080/",
          "height": 35
        },
        "id": "-PbeD8FQ_On3",
        "outputId": "cb4d86ef-5dcb-4a29-812f-5486dfb2b3c4"
      },
      "execution_count": null,
      "outputs": [
        {
          "output_type": "execute_result",
          "data": {
            "text/plain": [
              "'/content/output2'"
            ],
            "application/vnd.google.colaboratory.intrinsic+json": {
              "type": "string"
            }
          },
          "metadata": {},
          "execution_count": 2
        }
      ]
    },
    {
      "cell_type": "markdown",
      "source": [
        "WAV PROCESSING PARAMETERS:\n",
        "When WAV files are processed into training data in a later step, these parameters will be used.\n",
        "\n",
        "SAMPLE_RATE (in Hz): All training WAVS are at least 44.1kHz. You can specify a lower rate to downsample and speed up training/processing time, reduces detail of audio\n",
        "\n",
        "DURATION (int, in seconds): How many seconds of audio each Mel spectrogram should represent. The shortest clips in the training data are a little over 3 seconds, so anything over 3 will trigger padding (samples that are too short will be padded with 0s)\n",
        "\n",
        "AUDIO_LENGTH is calculated for you: Sample rate times chosen duration = number of total samples in the trimmed WAV file\n",
        "\n",
        "N_MELS: One of the parameters for Mel Spectrogram generation. Simply put, a measure of how detailed we want our description of the frequency content of a WAV file to be. Librosa defaults to 128.\n",
        "\n",
        "MONO: True for mono, False for stereo audio. Adjusts network shape input shape"
      ],
      "metadata": {
        "id": "flOZQf309PEu"
      }
    },
    {
      "cell_type": "code",
      "source": [
        "SAMPLE_RATE = 22050\n",
        "DURATION = 3  # in seconds\n",
        "AUDIO_LENGTH = SAMPLE_RATE * DURATION\n",
        "N_MELS = 256\n",
        "MONO = False\n"
      ],
      "metadata": {
        "id": "DJPrk1ugkd74"
      },
      "execution_count": null,
      "outputs": []
    },
    {
      "cell_type": "markdown",
      "source": [
        "# Preparing Input Data"
      ],
      "metadata": {
        "id": "igyP__WcHBCS"
      }
    },
    {
      "cell_type": "markdown",
      "source": [
        "AudioMelDataset: Describes a set of Mel Spectrograms to be used for training. Includes load_audio_librosa, which is called on a WAV file to generate a Mel spec, which is then added to the training data.\n",
        "\n",
        "EarlyStopping: Custom class to be called when training with Torch. In this implementation, EarlyStopping looks for stagnation in the validation loss metric to decide when to stop training."
      ],
      "metadata": {
        "id": "6vLZAsh--K4p"
      }
    },
    {
      "cell_type": "code",
      "source": [
        "class AudioMelDataset(Dataset):\n",
        "    def __init__(self, file_paths, labels):\n",
        "        self.file_paths = file_paths\n",
        "        self.labels = labels\n",
        "\n",
        "    def __len__(self):\n",
        "        return len(self.file_paths)\n",
        "\n",
        "    def __getitem__(self, idx):\n",
        "        file_path = self.file_paths[idx]\n",
        "        label = torch.tensor(self.labels[idx], dtype=torch.float32)\n",
        "        mel = self.load_audio_librosa(file_path)\n",
        "        return mel, label\n",
        "\n",
        "    def load_audio_librosa(self, file_path):\n",
        "        audio, sr = librosa.load(file_path, sr=SAMPLE_RATE, mono=MONO)\n",
        "\n",
        "        if MONO:\n",
        "          audio_trimmed, _ = librosa.effects.trim(audio, top_db=30)\n",
        "\n",
        "          if len(audio_trimmed) < AUDIO_LENGTH:\n",
        "              audio_trimmed = np.pad(audio_trimmed, (0, AUDIO_LENGTH - len(audio_trimmed)))\n",
        "          else:\n",
        "              audio_trimmed = audio_trimmed[:AUDIO_LENGTH]\n",
        "\n",
        "          rms = np.sqrt(np.mean(audio_trimmed**2))\n",
        "          gain = 0.1 / rms if rms > 0 else 1.0\n",
        "          audio_trimmed *= gain\n",
        "\n",
        "          mel = librosa.feature.melspectrogram(y=audio_trimmed, sr=sr, n_mels=N_MELS)\n",
        "          mel_db = librosa.power_to_db(mel, ref=np.max)\n",
        "          mel_db = (mel_db + 80) / 80.0\n",
        "\n",
        "          mel_tensor = torch.tensor(mel_db, dtype=torch.float32).unsqueeze(0)  # [1, n_mels, time]\n",
        "\n",
        "        else:\n",
        "          mel_specs = []\n",
        "          for ch in range(2):  # assume stereo\n",
        "              audio_ch = audio[ch]\n",
        "              audio_trimmed, _ = librosa.effects.trim(audio_ch, top_db=30)\n",
        "\n",
        "              if len(audio_trimmed) < AUDIO_LENGTH:\n",
        "                  audio_trimmed = np.pad(audio_trimmed, (0, AUDIO_LENGTH - len(audio_trimmed)))\n",
        "              else:\n",
        "                  audio_trimmed = audio_trimmed[:AUDIO_LENGTH]\n",
        "\n",
        "              rms = np.sqrt(np.mean(audio_trimmed**2))\n",
        "              gain = 0.1 / rms if rms > 0 else 1.0\n",
        "              audio_trimmed *= gain\n",
        "\n",
        "              mel = librosa.feature.melspectrogram(y=audio_trimmed, sr=sr, n_mels=N_MELS)\n",
        "              mel_db = librosa.power_to_db(mel, ref=np.max)\n",
        "              mel_db = (mel_db + 80) / 80.0\n",
        "\n",
        "              mel_specs.append(mel_db)\n",
        "\n",
        "          mel_tensor = torch.tensor(np.stack(mel_specs), dtype=torch.float32)  # [2, n_mels, time]\n",
        "\n",
        "        return mel_tensor\n",
        "\n",
        "\n",
        "class EarlyStopping:\n",
        "    def __init__(self, patience=10, min_delta=0.0):\n",
        "        self.patience = patience\n",
        "        self.min_delta = min_delta\n",
        "        self.best_score = None\n",
        "        self.counter = 0\n",
        "        self.early_stop = False\n",
        "        self.best_model_state = None\n",
        "\n",
        "    def __call__(self, val_loss, model):\n",
        "        if self.best_score is None or val_loss < self.best_score - self.min_delta:\n",
        "            self.best_score = val_loss\n",
        "            self.best_model_state = model.state_dict()\n",
        "            self.counter = 0\n",
        "        else:\n",
        "            self.counter += 1\n",
        "            if self.counter >= self.patience:\n",
        "                self.early_stop = True"
      ],
      "metadata": {
        "id": "nV9xa2Wb9NJJ"
      },
      "execution_count": null,
      "outputs": []
    },
    {
      "cell_type": "markdown",
      "source": [
        "This block gets the filepaths and labels of all samples in the training data. As described in the paper, the training data includes samples of instruments:\n",
        "\n",
        "- Drums\n",
        "- Guitar\n",
        "- Voice\n",
        "- Keys\n",
        "- Misc (other instruments)\n",
        "\n",
        "Every dry sample (40 for each instrument, 97 for Misc) was sent through audio effects to create all 16 possible combinations of Distortion, Chorus, Delay, Reverb (or none at all) for every original sample.\n",
        "\n",
        "(40+40+40+40+97) * 16 = 4112 WAV samples in training data\n",
        "\n",
        "The filename for each WAV includes the label for that WAV in a one hot encoding. Order is Distortion, Chorus, Delay, Reverb.\n",
        "\n",
        "instrument_sampleindex_effects\n",
        "\n",
        "Example:\n",
        "guitar_16_1011 would be the 17th guitar sample (0-indexed) rendered with Distortion, Delay, and Reverb (no chorus)\n",
        "\n",
        "This block extracts those labels from the filepath string and adds them to the labels list"
      ],
      "metadata": {
        "id": "GdW12Zi8-2HR"
      }
    },
    {
      "cell_type": "code",
      "source": [
        "## for google drive storage\n",
        "# drums_dir = \"/content/drive/MyDrive/output2/drums\"\n",
        "# guitar_dir = \"/content/drive/MyDrive/output2/guitar\"\n",
        "# voice_dir = \"/content/drive/MyDrive/output2/vox\"\n",
        "# keys_dir = \"/content/drive/MyDrive/output2/keys\"\n",
        "# misc_dir = \"/content/drive/MyDrive/output2/misc\"\n",
        "\n",
        "## for local colab storage:\n",
        "drums_dir = \"/content/output2/drums\"\n",
        "guitar_dir = \"/content/output2/guitar\"\n",
        "voice_dir = \"/content/output2/vox\"\n",
        "keys_dir = \"/content/output2/keys\"\n",
        "misc_dir = \"/content/output2/misc\"\n",
        "\n",
        "\n",
        "def get_paths(directory):\n",
        "    return [\n",
        "        os.path.join(directory, f)\n",
        "        for f in os.listdir(directory)\n",
        "        if os.path.isfile(os.path.join(directory, f)) and f != \".DS_Store\"\n",
        "    ]\n",
        "\n",
        "# Extract all filepaths as strings\n",
        "drums_paths = get_paths(drums_dir)\n",
        "guitar_paths = get_paths(guitar_dir)\n",
        "voice_paths = get_paths(voice_dir)\n",
        "keys_paths = get_paths(keys_dir)\n",
        "misc_paths = get_paths(misc_dir)\n",
        "\n",
        "\n",
        "# One list for all filepaths in the training data\n",
        "all_paths = drums_paths + guitar_paths + voice_paths + keys_paths + misc_paths\n",
        "\n",
        "# Extract labels from filenames (same logic)\n",
        "labels = []\n",
        "for path in all_paths:\n",
        "    label_str = path[-8:-4]\n",
        "    label = [int(char) for char in label_str]\n",
        "    labels.append(label)\n",
        "\n",
        "\n",
        "input_shape = (1, N_MELS, int(AUDIO_LENGTH / 512) + 1)\n"
      ],
      "metadata": {
        "id": "XdT-aET7kvkS"
      },
      "execution_count": null,
      "outputs": []
    },
    {
      "cell_type": "markdown",
      "source": [
        "# Defining the Network\n",
        "\n"
      ],
      "metadata": {
        "id": "ku1QyL6oHwj3"
      }
    },
    {
      "cell_type": "markdown",
      "source": [
        "Classifer uses Pytorch to define a convolutional neural network that takes in Mel spectrograms that have been generated from the WAV input set.\n"
      ],
      "metadata": {
        "id": "40VH40aDAXXg"
      }
    },
    {
      "cell_type": "markdown",
      "source": [
        "Initial, four layer network:"
      ],
      "metadata": {
        "id": "583Yfl3Bc4Et"
      }
    },
    {
      "cell_type": "code",
      "source": [
        "\n",
        "class Classifier(nn.Module):\n",
        "    def __init__(self, input_channels=1):\n",
        "        super(Classifier, self).__init__()\n",
        "\n",
        "\n",
        "        self.conv1 = nn.Conv2d(input_channels, 32, kernel_size=3, padding=1)\n",
        "        self.pool1 = nn.MaxPool2d(kernel_size=2)\n",
        "\n",
        "        self.conv2 = nn.Conv2d(32, 64, kernel_size=3, padding=1)\n",
        "        self.pool2 = nn.MaxPool2d(kernel_size=2)\n",
        "\n",
        "        self.conv3 = nn.Conv2d(64, 128, kernel_size=3, padding=1)\n",
        "        self.pool3 = nn.MaxPool2d(kernel_size=2)\n",
        "\n",
        "        self.conv4 = nn.Conv2d(128, 256, kernel_size=3, padding=1)\n",
        "        self.pool4 = nn.MaxPool2d(kernel_size=2)\n",
        "\n",
        "\n",
        "\n",
        "        self.fc1 = nn.Linear(256, 64)\n",
        "        self.fc2 = nn.Linear(64, 4)\n",
        "        self.sigmoid = nn.Sigmoid()\n",
        "        self.relu = nn.ReLU()\n",
        "        self.global_avg_pool = nn.AdaptiveAvgPool2d(1)  # Global Average Pooling\n",
        "\n",
        "    def forward(self, x):\n",
        "      x = self.pool1(self.relu(self.conv1(x)))\n",
        "      x = self.pool2(self.relu(self.conv2(x)))\n",
        "      x = self.pool3(self.relu(self.conv3(x)))\n",
        "      x = self.pool4(self.relu(self.conv4(x)))\n",
        "\n",
        "      x = self.global_avg_pool(x)\n",
        "      x = torch.flatten(x, 1)\n",
        "\n",
        "      x = self.relu(self.fc1(x))\n",
        "      x = self.sigmoid(self.fc2(x))\n",
        "      return x\n",
        "\n"
      ],
      "metadata": {
        "id": "OwqCURVLRoNC"
      },
      "execution_count": null,
      "outputs": []
    },
    {
      "cell_type": "markdown",
      "source": [
        "Final, five layers with dropout:\n"
      ],
      "metadata": {
        "id": "Grif6k2Dc68P"
      }
    },
    {
      "cell_type": "code",
      "source": [
        "\n",
        "class Classifier(nn.Module):\n",
        "    def __init__(self, input_channels=1):\n",
        "        super(Classifier, self).__init__()\n",
        "\n",
        "        self.input_dropout = nn.Dropout2d(0.2)  # Dropout2d for spatial dropout on input features\n",
        "\n",
        "        self.conv1 = nn.Conv2d(input_channels, 32, kernel_size=3, padding=1)\n",
        "        self.pool1 = nn.MaxPool2d(kernel_size=2)\n",
        "\n",
        "        self.conv2 = nn.Conv2d(32, 64, kernel_size=3, padding=1)\n",
        "        self.pool2 = nn.MaxPool2d(kernel_size=2)\n",
        "\n",
        "        self.conv3 = nn.Conv2d(64, 128, kernel_size=3, padding=1)\n",
        "        self.pool3 = nn.MaxPool2d(kernel_size=2)\n",
        "\n",
        "        self.conv4 = nn.Conv2d(128, 256, kernel_size=3, padding=1)\n",
        "        self.pool4 = nn.MaxPool2d(kernel_size=2)\n",
        "\n",
        "        self.conv5 = nn.Conv2d(256, 512, kernel_size=3, padding=1)\n",
        "        self.pool5 = nn.MaxPool2d(kernel_size=2)\n",
        "\n",
        "        self.dropout = nn.Dropout(0.5)\n",
        "\n",
        "\n",
        "        self.fc1 = nn.Linear(512, 64)\n",
        "        self.fc2 = nn.Linear(64, 4)\n",
        "        self.sigmoid = nn.Sigmoid()\n",
        "        self.relu = nn.ReLU()\n",
        "        self.global_avg_pool = nn.AdaptiveAvgPool2d(1)  # Global Average Pooling\n",
        "\n",
        "    def forward(self, x):\n",
        "      x = self.input_dropout(x)  # Apply the input dropout\n",
        "      x = self.pool1(self.relu(self.conv1(x)))\n",
        "      x = self.pool2(self.relu(self.conv2(x)))\n",
        "      x = self.pool3(self.relu(self.conv3(x)))\n",
        "      x = self.pool4(self.relu(self.conv4(x)))\n",
        "      x = self.pool5(self.relu(self.conv5(x)))\n",
        "\n",
        "      x = self.global_avg_pool(x)\n",
        "      x = torch.flatten(x, 1)\n",
        "\n",
        "      x = self.relu(self.fc1(x))\n",
        "      x = self.dropout(x)\n",
        "      x = self.sigmoid(self.fc2(x))\n",
        "      return x\n",
        "\n"
      ],
      "metadata": {
        "id": "aCcACl2QdXb2"
      },
      "execution_count": null,
      "outputs": []
    },
    {
      "cell_type": "markdown",
      "source": [
        "train() and test() below define a basic Pytorch loop. Tqdm is used to display progress towards each epoch. Includes a check for early stopping at the end of every training epoch using our custom class.\n",
        "\n",
        "At the end of training, test() runs and will print the final statistics, both for the model overall and for each label (effect). Note the commented block at the end of the train() method which can be activated in order to print the full set of statistics for every label at the end of every training epoch, not just at the very end."
      ],
      "metadata": {
        "id": "hTp8CrRZBN58"
      }
    },
    {
      "cell_type": "code",
      "source": [
        "\n",
        "label_names = ['Distortion', 'Chorus', 'Delay', 'Reverb'] # label names, used for printing per-label stats at the end\n",
        "\n",
        "def train(model, train_loader, val_loader, criterion, optimizer, epochs=100, threshold=0.5, early_stopping=None):\n",
        "    for epoch in range(epochs):\n",
        "        model.train()\n",
        "        train_loss = 0.0\n",
        "\n",
        "        for mel, labels in tqdm(train_loader, desc=f\"Epoch {epoch+1}/{epochs} [Training]\", disable=True):\n",
        "            mel = mel.to(device)\n",
        "            labels = labels.to(device)\n",
        "\n",
        "            optimizer.zero_grad()\n",
        "            outputs = model(mel)\n",
        "\n",
        "            loss = criterion(outputs, labels)\n",
        "            loss.backward()\n",
        "            optimizer.step()\n",
        "\n",
        "            train_loss += loss.item()\n",
        "\n",
        "        avg_train_loss = train_loss / len(train_loader)\n",
        "        print(f\"\\nEpoch {epoch+1}: Train Loss = {avg_train_loss:.4f}\")\n",
        "\n",
        "        # Validation\n",
        "        model.eval()\n",
        "        val_loss = 0.0\n",
        "        all_preds = []\n",
        "        all_labels = []\n",
        "\n",
        "        with torch.no_grad():\n",
        "            for mel, labels in tqdm(val_loader, desc=f\"Epoch {epoch+1}/{epochs} [Validation]\", disable=False):\n",
        "                mel = mel.to(device)\n",
        "                labels = labels.to(device)\n",
        "                outputs = model(mel)\n",
        "                loss = criterion(outputs, labels)\n",
        "                val_loss += loss.item()\n",
        "\n",
        "                preds = (outputs > threshold).int().cpu().numpy()\n",
        "                all_preds.extend(preds)\n",
        "                all_labels.extend(labels.cpu().numpy())\n",
        "\n",
        "        avg_val_loss = val_loss / len(val_loader)\n",
        "\n",
        "        # Compute metrics\n",
        "        all_preds = np.array(all_preds)\n",
        "        all_labels = np.array(all_labels)\n",
        "\n",
        "        f1 = f1_score(all_labels, all_preds, average='macro', zero_division=0)\n",
        "        precision = precision_score(all_labels, all_preds, average='macro', zero_division=0)\n",
        "        recall = recall_score(all_labels, all_preds, average='macro', zero_division=0)\n",
        "        acc = accuracy_score(all_labels, all_preds)\n",
        "\n",
        "        print(f\"Epoch {epoch+1}: Val Loss = {avg_val_loss:.4f}\")\n",
        "        print(f\"           Accuracy:  {acc:.4f}\")\n",
        "        print(f\"           Precision: {precision:.4f}\")\n",
        "        print(f\"           Recall:    {recall:.4f}\")\n",
        "        print(f\"           F1 Score:  {f1:.4f}\")\n",
        "\n",
        "\n",
        "        if early_stopping:\n",
        "            early_stopping(avg_val_loss, model)\n",
        "            if early_stopping.early_stop:\n",
        "                print(f\"Early stopping triggered at epoch {epoch+1}\")\n",
        "                model.load_state_dict(early_stopping.best_model_state)\n",
        "                break\n",
        "\n",
        "\n",
        "        # Uncomment if you'd like the model to print the stats for every label after every epoch\n",
        "        # Per-label metrics with custom label names.\n",
        "        # print(\"\\nPer-label Metrics:\")\n",
        "        # for i in range(all_labels.shape[1]):  # Iterate over each label (column-wise)\n",
        "        #     label_precision = precision_score(all_labels[:, i], all_preds[:, i])\n",
        "        #     label_recall = recall_score(all_labels[:, i], all_preds[:, i])\n",
        "        #     label_f1 = f1_score(all_labels[:, i], all_preds[:, i])\n",
        "        #     label_name = label_names\n",
        "        #     print(f\"{label_name}: Precision: {label_precision:.4f}, Recall: {label_recall:.4f}, F1: {label_f1:.4f}\")\n",
        "\n",
        "\n",
        "def test(model, test_loader, criterion, threshold=0.5):\n",
        "    model.eval()\n",
        "    test_loss = 0.0\n",
        "    all_preds = []\n",
        "    all_labels = []\n",
        "\n",
        "    with torch.no_grad():\n",
        "        for mel, labels in tqdm(test_loader, desc=\"Testing\", disable=False):\n",
        "            mel = mel.to(device)\n",
        "            labels = labels.to(device)\n",
        "\n",
        "            outputs = model(mel)\n",
        "            loss = criterion(outputs, labels)\n",
        "            test_loss += loss.item()\n",
        "\n",
        "            preds = (outputs > threshold).int().cpu().numpy()\n",
        "            all_preds.extend(preds)\n",
        "            all_labels.extend(labels.cpu().numpy())\n",
        "\n",
        "    avg_test_loss = test_loss / len(test_loader)\n",
        "\n",
        "    all_preds = np.array(all_preds)\n",
        "    all_labels = np.array(all_labels)\n",
        "\n",
        "    # Compute overall metrics\n",
        "    f1 = f1_score(all_labels, all_preds, average='macro', zero_division=0)\n",
        "    precision = precision_score(all_labels, all_preds, average='macro', zero_division=0)\n",
        "    recall = recall_score(all_labels, all_preds, average='macro', zero_division=0)\n",
        "    acc = accuracy_score(all_labels, all_preds)\n",
        "\n",
        "    # Print overall test results\n",
        "    print(\"\\n Test Results:\")\n",
        "    print(f\"   Test Loss:   {avg_test_loss:.4f}\")\n",
        "    print(f\"   Accuracy:    {acc:.4f}\")\n",
        "    print(f\"   Precision:   {precision:.4f}\")\n",
        "    print(f\"   Recall:      {recall:.4f}\")\n",
        "    print(f\"   F1 Score:    {f1:.4f}\")\n",
        "\n",
        "    # Per-label metrics with custom label names\n",
        "    print(\"\\nPer-label Metrics:\")\n",
        "    for i in range(all_labels.shape[1]):  # Iterate over each label (column-wise)\n",
        "        label_precision = precision_score(all_labels[:, i], all_preds[:, i])\n",
        "        label_recall = recall_score(all_labels[:, i], all_preds[:, i])\n",
        "        label_f1 = f1_score(all_labels[:, i], all_preds[:, i])\n",
        "        label_name = label_names[i] if i < len(label_names) else f\"Label {i}\"  # Use the label name or default to index if out of range\n",
        "        print(f\"{label_name}: Precision: {label_precision:.4f}, Recall: {label_recall:.4f}, F1: {label_f1:.4f}\")\n",
        "\n",
        "\n",
        "\n"
      ],
      "metadata": {
        "id": "thNmPcKClKf3"
      },
      "execution_count": null,
      "outputs": []
    },
    {
      "cell_type": "markdown",
      "source": [
        "# Loading Data into Memory"
      ],
      "metadata": {
        "id": "X_aD-8ITHVKI"
      }
    },
    {
      "cell_type": "markdown",
      "source": [
        "This block loads the WAV audio samples from the training data and converts each to a Mel spectrogram according to the parameters we set at the beginning of the code. The Mel specs are represented as tensors and stored in memory in the mel_tensors list.\n",
        "\n",
        "The commented code represents part of an unfinished earlier implementation for data storage. Originally, the processed Mel specs were added to the local Colab storage and then pulled out of that storage when being used for training. I opted to store the tensors in memory instead, since the memory capacity for Colab is significantly higher than what is required to store all tensors, and it results in faster training than using Colab disk space."
      ],
      "metadata": {
        "id": "vecQh5I2CsP_"
      }
    },
    {
      "cell_type": "code",
      "source": [
        "\n",
        "# save_dir = \"/content/preprocessed_mels\"\n",
        "# os.makedirs(save_dir, exist_ok=True)\n",
        "\n",
        "mel_tensors = []\n",
        "\n",
        "for path in tqdm(all_paths):\n",
        "    mel = AudioMelDataset.load_audio_librosa(None, path)\n",
        "    mel_tensors.append(mel)"
      ],
      "metadata": {
        "colab": {
          "base_uri": "https://localhost:8080/"
        },
        "id": "0fDrmrqf27y-",
        "outputId": "6d5ad85c-8e5d-4529-f8a1-05eba95d5e2d"
      },
      "execution_count": null,
      "outputs": [
        {
          "output_type": "stream",
          "name": "stderr",
          "text": [
            "100%|██████████| 4112/4112 [04:56<00:00, 13.88it/s]\n"
          ]
        }
      ]
    },
    {
      "cell_type": "markdown",
      "source": [
        "In case it is ever needed, you can uncomment this code and run the block to free up RAM by deleting the list of tensors from memory:"
      ],
      "metadata": {
        "id": "fykCJTauDcuj"
      }
    },
    {
      "cell_type": "code",
      "source": [
        "# del mel_tensors"
      ],
      "metadata": {
        "id": "9s1_Az-GE8NG"
      },
      "execution_count": null,
      "outputs": []
    },
    {
      "cell_type": "markdown",
      "source": [
        "This block defines the InMemoryMelDataset class for managing the mel_tensors list and list of labels during training.\n",
        "\n",
        "The commented block defines the same class for the Colab disk-based implementation (deprecated) previously mentioned.\n",
        "\n",
        "\n",
        "AUGMENTATION: As described in the paper, something I tried was augmenting the training data by pitch/time shifting random mel spectrograms. THat code can be commented out here"
      ],
      "metadata": {
        "id": "teUcRm4YDmA1"
      }
    },
    {
      "cell_type": "code",
      "source": [
        "class InMemoryMelDataset(Dataset):\n",
        "    def __init__(self, mel_tensors, labels, augment=False, delta=False):\n",
        "        self.mel_tensors = mel_tensors\n",
        "        self.labels = labels\n",
        "        self.augment = augment\n",
        "        self.delta = delta  # <-- NEW\n",
        "\n",
        "    def __len__(self):\n",
        "        return len(self.mel_tensors)\n",
        "\n",
        "    def __getitem__(self, idx):\n",
        "        mel = self.mel_tensors[idx]\n",
        "        label = torch.tensor(self.labels[idx], dtype=torch.float32)\n",
        "\n",
        "        if self.augment:\n",
        "            mel = self.apply_augmentation(mel)\n",
        "\n",
        "        if self.delta:\n",
        "            mel = self.apply_delta(mel)\n",
        "\n",
        "        return mel, label\n",
        "\n",
        "    def apply_augmentation(self, mel):\n",
        "        mel_np = mel.squeeze(0).numpy() if mel.shape[0] == 1 else mel.numpy()\n",
        "\n",
        "        if random.random() < 0.2:\n",
        "            rate = random.uniform(0.9, 1.1)\n",
        "            mel_np = librosa.effects.time_stretch(mel_np, rate)\n",
        "\n",
        "        mel_aug = torch.tensor(mel_np, dtype=torch.float32)\n",
        "\n",
        "        if mel.shape[0] == 1:\n",
        "            mel_aug = mel_aug.unsqueeze(0)  # mono: [1, n_mels, time]\n",
        "\n",
        "        return mel_aug\n",
        "\n",
        "    def apply_delta(self, mel):\n",
        "        mel_np = mel.squeeze(0).numpy() if mel.shape[0] == 1 else mel.numpy()\n",
        "\n",
        "        if mel_np.ndim == 2:\n",
        "            # Mono: [n_mels, time]\n",
        "            delta = librosa.feature.delta(mel_np)\n",
        "            delta2 = librosa.feature.delta(mel_np, order=2)\n",
        "            stacked = np.stack([mel_np, delta, delta2], axis=0)  # [3, n_mels, time]\n",
        "        else:\n",
        "            # Stereo: [2, n_mels, time]\n",
        "            channels = []\n",
        "            for ch in mel_np:\n",
        "                delta = librosa.feature.delta(ch)\n",
        "                delta2 = librosa.feature.delta(ch, order=2)\n",
        "                stacked_ch = np.stack([ch, delta, delta2], axis=0)  # [3, n_mels, time]\n",
        "                channels.append(stacked_ch)\n",
        "            stacked = np.concatenate(channels, axis=0)  # [6, n_mels, time]\n",
        "\n",
        "        return torch.tensor(stacked, dtype=torch.float32)\n"
      ],
      "metadata": {
        "id": "1_8CXJ8L4d0S"
      },
      "execution_count": null,
      "outputs": []
    },
    {
      "cell_type": "markdown",
      "source": [
        "# Training and Testing"
      ],
      "metadata": {
        "id": "zxVWCPHFHsdp"
      }
    },
    {
      "cell_type": "markdown",
      "source": [
        "\n",
        "This block creates the instance of the dataset, then randomly creates a split between the training, validation, and test set using a common distribution. Then, training and testing are performed.\n",
        "\n",
        "BATCH_SIZE, LEARNING_RATE, and EPOCHS hyperparameters can be adjusted here.\n",
        "\n",
        "\n"
      ],
      "metadata": {
        "id": "P1AtVrkJEs3q"
      }
    },
    {
      "cell_type": "code",
      "source": [
        "\n",
        "# dataset = PreprocessedMelDataset(mel_paths, labels)\n",
        "dataset = InMemoryMelDataset(mel_tensors, labels, augment=False, delta=False)\n",
        "\n",
        "# Split sizes\n",
        "total_size = len(dataset)\n",
        "train_size = int(0.7 * total_size)\n",
        "val_size = int(0.15 * total_size)\n",
        "test_size = total_size - train_size - val_size\n",
        "\n",
        "train_ds, val_ds, test_ds = random_split(dataset, [train_size, val_size, test_size])\n",
        "\n",
        "train_ds.dataset.augment = False\n",
        "val_ds.dataset.augment = False\n",
        "test_ds.dataset.augment = False\n",
        "\n",
        "early_stopper = EarlyStopping(patience=15, min_delta=0.001)\n",
        "\n",
        "# DataLoaders\n",
        "BATCH_SIZE = 32\n",
        "LEARNING_RATE = 0.001\n",
        "EPOCHS = 70\n",
        "EARLY_STOPPING = None\n",
        "\n",
        "train_loader = DataLoader(train_ds, batch_size=BATCH_SIZE, shuffle=True, num_workers = 2)\n",
        "val_loader = DataLoader(val_ds, batch_size=BATCH_SIZE, shuffle=False, num_workers = 2)\n",
        "test_loader = DataLoader(test_ds, batch_size=BATCH_SIZE, shuffle=False,  num_workers = 2)\n",
        "\n",
        "classifier = Classifier(input_channels=3 if (MONO and dataset.delta) else 6 if (not MONO and dataset.delta) else (1 if MONO else 2)).to(device)\n",
        "optimizer = optim.Adam(classifier.parameters(), lr=LEARNING_RATE)\n",
        "criterion = nn.BCELoss()\n",
        "\n",
        "\n",
        "train(classifier, train_loader, val_loader, criterion, optimizer, epochs=EPOCHS, early_stopping=EARLY_STOPPING)\n",
        "test(classifier, test_loader, criterion)"
      ],
      "metadata": {
        "id": "zSv-6IvSmNU7",
        "colab": {
          "base_uri": "https://localhost:8080/"
        },
        "outputId": "542d76c9-81bf-4e07-9876-7949447480ef"
      },
      "execution_count": null,
      "outputs": [
        {
          "output_type": "stream",
          "name": "stdout",
          "text": [
            "\n",
            "Epoch 1: Train Loss = 0.6838\n"
          ]
        },
        {
          "output_type": "stream",
          "name": "stderr",
          "text": [
            "Epoch 1/70 [Validation]: 100%|██████████| 20/20 [00:00<00:00, 59.13it/s]"
          ]
        },
        {
          "output_type": "stream",
          "name": "stdout",
          "text": [
            "Epoch 1: Val Loss = 0.6771\n",
            "           Accuracy:  0.0844\n",
            "           Precision: 0.6983\n",
            "           Recall:    0.3655\n",
            "           F1 Score:  0.3872\n"
          ]
        },
        {
          "output_type": "stream",
          "name": "stderr",
          "text": [
            "\n"
          ]
        },
        {
          "output_type": "stream",
          "name": "stdout",
          "text": [
            "\n",
            "Epoch 2: Train Loss = 0.6700\n"
          ]
        },
        {
          "output_type": "stream",
          "name": "stderr",
          "text": [
            "Epoch 2/70 [Validation]: 100%|██████████| 20/20 [00:00<00:00, 80.35it/s] "
          ]
        },
        {
          "output_type": "stream",
          "name": "stdout",
          "text": [
            "Epoch 2: Val Loss = 0.6842\n",
            "           Accuracy:  0.0747\n",
            "           Precision: 0.6808\n",
            "           Recall:    0.2754\n",
            "           F1 Score:  0.2184\n"
          ]
        },
        {
          "output_type": "stream",
          "name": "stderr",
          "text": [
            "\n"
          ]
        },
        {
          "output_type": "stream",
          "name": "stdout",
          "text": [
            "\n",
            "Epoch 3: Train Loss = 0.6509\n"
          ]
        },
        {
          "output_type": "stream",
          "name": "stderr",
          "text": [
            "Epoch 3/70 [Validation]: 100%|██████████| 20/20 [00:00<00:00, 81.48it/s] "
          ]
        },
        {
          "output_type": "stream",
          "name": "stdout",
          "text": [
            "Epoch 3: Val Loss = 0.6370\n",
            "           Accuracy:  0.1169\n",
            "           Precision: 0.6556\n",
            "           Recall:    0.5893\n",
            "           F1 Score:  0.6025\n"
          ]
        },
        {
          "output_type": "stream",
          "name": "stderr",
          "text": [
            "\n"
          ]
        },
        {
          "output_type": "stream",
          "name": "stdout",
          "text": [
            "\n",
            "Epoch 4: Train Loss = 0.6328\n"
          ]
        },
        {
          "output_type": "stream",
          "name": "stderr",
          "text": [
            "Epoch 4/70 [Validation]: 100%|██████████| 20/20 [00:00<00:00, 77.54it/s]"
          ]
        },
        {
          "output_type": "stream",
          "name": "stdout",
          "text": [
            "Epoch 4: Val Loss = 0.6010\n",
            "           Accuracy:  0.1266\n",
            "           Precision: 0.6495\n",
            "           Recall:    0.5674\n",
            "           F1 Score:  0.6017\n"
          ]
        },
        {
          "output_type": "stream",
          "name": "stderr",
          "text": [
            "\n"
          ]
        },
        {
          "output_type": "stream",
          "name": "stdout",
          "text": [
            "\n",
            "Epoch 5: Train Loss = 0.6051\n"
          ]
        },
        {
          "output_type": "stream",
          "name": "stderr",
          "text": [
            "Epoch 5/70 [Validation]: 100%|██████████| 20/20 [00:00<00:00, 80.72it/s] "
          ]
        },
        {
          "output_type": "stream",
          "name": "stdout",
          "text": [
            "Epoch 5: Val Loss = 0.5758\n",
            "           Accuracy:  0.1558\n",
            "           Precision: 0.6626\n",
            "           Recall:    0.5577\n",
            "           F1 Score:  0.5950\n"
          ]
        },
        {
          "output_type": "stream",
          "name": "stderr",
          "text": [
            "\n"
          ]
        },
        {
          "output_type": "stream",
          "name": "stdout",
          "text": [
            "\n",
            "Epoch 6: Train Loss = 0.5873\n"
          ]
        },
        {
          "output_type": "stream",
          "name": "stderr",
          "text": [
            "Epoch 6/70 [Validation]: 100%|██████████| 20/20 [00:00<00:00, 77.72it/s]"
          ]
        },
        {
          "output_type": "stream",
          "name": "stdout",
          "text": [
            "Epoch 6: Val Loss = 0.5911\n",
            "           Accuracy:  0.1623\n",
            "           Precision: 0.6797\n",
            "           Recall:    0.7294\n",
            "           F1 Score:  0.6873\n"
          ]
        },
        {
          "output_type": "stream",
          "name": "stderr",
          "text": [
            "\n"
          ]
        },
        {
          "output_type": "stream",
          "name": "stdout",
          "text": [
            "\n",
            "Epoch 7: Train Loss = 0.5756\n"
          ]
        },
        {
          "output_type": "stream",
          "name": "stderr",
          "text": [
            "Epoch 7/70 [Validation]: 100%|██████████| 20/20 [00:00<00:00, 81.38it/s] "
          ]
        },
        {
          "output_type": "stream",
          "name": "stdout",
          "text": [
            "Epoch 7: Val Loss = 0.5276\n",
            "           Accuracy:  0.2078\n",
            "           Precision: 0.6904\n",
            "           Recall:    0.7110\n",
            "           F1 Score:  0.6951\n"
          ]
        },
        {
          "output_type": "stream",
          "name": "stderr",
          "text": [
            "\n"
          ]
        },
        {
          "output_type": "stream",
          "name": "stdout",
          "text": [
            "\n",
            "Epoch 8: Train Loss = 0.5585\n"
          ]
        },
        {
          "output_type": "stream",
          "name": "stderr",
          "text": [
            "Epoch 8/70 [Validation]: 100%|██████████| 20/20 [00:00<00:00, 81.79it/s] "
          ]
        },
        {
          "output_type": "stream",
          "name": "stdout",
          "text": [
            "Epoch 8: Val Loss = 0.6029\n",
            "           Accuracy:  0.1526\n",
            "           Precision: 0.6513\n",
            "           Recall:    0.8469\n",
            "           F1 Score:  0.7037\n"
          ]
        },
        {
          "output_type": "stream",
          "name": "stderr",
          "text": [
            "\n"
          ]
        },
        {
          "output_type": "stream",
          "name": "stdout",
          "text": [
            "\n",
            "Epoch 9: Train Loss = 0.5483\n"
          ]
        },
        {
          "output_type": "stream",
          "name": "stderr",
          "text": [
            "Epoch 9/70 [Validation]: 100%|██████████| 20/20 [00:00<00:00, 81.22it/s] "
          ]
        },
        {
          "output_type": "stream",
          "name": "stdout",
          "text": [
            "Epoch 9: Val Loss = 0.5816\n",
            "           Accuracy:  0.1607\n",
            "           Precision: 0.6470\n",
            "           Recall:    0.8819\n",
            "           F1 Score:  0.7326\n"
          ]
        },
        {
          "output_type": "stream",
          "name": "stderr",
          "text": [
            "\n"
          ]
        },
        {
          "output_type": "stream",
          "name": "stdout",
          "text": [
            "\n",
            "Epoch 10: Train Loss = 0.5370\n"
          ]
        },
        {
          "output_type": "stream",
          "name": "stderr",
          "text": [
            "Epoch 10/70 [Validation]: 100%|██████████| 20/20 [00:00<00:00, 79.46it/s] "
          ]
        },
        {
          "output_type": "stream",
          "name": "stdout",
          "text": [
            "Epoch 10: Val Loss = 0.4982\n",
            "           Accuracy:  0.2273\n",
            "           Precision: 0.6887\n",
            "           Recall:    0.7891\n",
            "           F1 Score:  0.7323\n"
          ]
        },
        {
          "output_type": "stream",
          "name": "stderr",
          "text": [
            "\n"
          ]
        },
        {
          "output_type": "stream",
          "name": "stdout",
          "text": [
            "\n",
            "Epoch 11: Train Loss = 0.5213\n"
          ]
        },
        {
          "output_type": "stream",
          "name": "stderr",
          "text": [
            "Epoch 11/70 [Validation]: 100%|██████████| 20/20 [00:00<00:00, 79.97it/s] "
          ]
        },
        {
          "output_type": "stream",
          "name": "stdout",
          "text": [
            "Epoch 11: Val Loss = 0.5348\n",
            "           Accuracy:  0.1802\n",
            "           Precision: 0.6367\n",
            "           Recall:    0.8514\n",
            "           F1 Score:  0.7261\n"
          ]
        },
        {
          "output_type": "stream",
          "name": "stderr",
          "text": [
            "\n"
          ]
        },
        {
          "output_type": "stream",
          "name": "stdout",
          "text": [
            "\n",
            "Epoch 12: Train Loss = 0.5239\n"
          ]
        },
        {
          "output_type": "stream",
          "name": "stderr",
          "text": [
            "Epoch 12/70 [Validation]: 100%|██████████| 20/20 [00:00<00:00, 80.48it/s] "
          ]
        },
        {
          "output_type": "stream",
          "name": "stdout",
          "text": [
            "Epoch 12: Val Loss = 0.4824\n",
            "           Accuracy:  0.2110\n",
            "           Precision: 0.6975\n",
            "           Recall:    0.7772\n",
            "           F1 Score:  0.7327\n"
          ]
        },
        {
          "output_type": "stream",
          "name": "stderr",
          "text": [
            "\n"
          ]
        },
        {
          "output_type": "stream",
          "name": "stdout",
          "text": [
            "\n",
            "Epoch 13: Train Loss = 0.5067\n"
          ]
        },
        {
          "output_type": "stream",
          "name": "stderr",
          "text": [
            "Epoch 13/70 [Validation]: 100%|██████████| 20/20 [00:00<00:00, 81.57it/s] "
          ]
        },
        {
          "output_type": "stream",
          "name": "stdout",
          "text": [
            "Epoch 13: Val Loss = 0.4866\n",
            "           Accuracy:  0.2354\n",
            "           Precision: 0.7109\n",
            "           Recall:    0.8602\n",
            "           F1 Score:  0.7690\n"
          ]
        },
        {
          "output_type": "stream",
          "name": "stderr",
          "text": [
            "\n"
          ]
        },
        {
          "output_type": "stream",
          "name": "stdout",
          "text": [
            "\n",
            "Epoch 14: Train Loss = 0.4926\n"
          ]
        },
        {
          "output_type": "stream",
          "name": "stderr",
          "text": [
            "Epoch 14/70 [Validation]: 100%|██████████| 20/20 [00:00<00:00, 79.32it/s] "
          ]
        },
        {
          "output_type": "stream",
          "name": "stdout",
          "text": [
            "Epoch 14: Val Loss = 0.4936\n",
            "           Accuracy:  0.2094\n",
            "           Precision: 0.6699\n",
            "           Recall:    0.8666\n",
            "           F1 Score:  0.7540\n"
          ]
        },
        {
          "output_type": "stream",
          "name": "stderr",
          "text": [
            "\n"
          ]
        },
        {
          "output_type": "stream",
          "name": "stdout",
          "text": [
            "\n",
            "Epoch 15: Train Loss = 0.4871\n"
          ]
        },
        {
          "output_type": "stream",
          "name": "stderr",
          "text": [
            "Epoch 15/70 [Validation]: 100%|██████████| 20/20 [00:00<00:00, 80.06it/s] "
          ]
        },
        {
          "output_type": "stream",
          "name": "stdout",
          "text": [
            "Epoch 15: Val Loss = 0.5068\n",
            "           Accuracy:  0.2045\n",
            "           Precision: 0.6859\n",
            "           Recall:    0.8487\n",
            "           F1 Score:  0.7517\n"
          ]
        },
        {
          "output_type": "stream",
          "name": "stderr",
          "text": [
            "\n"
          ]
        },
        {
          "output_type": "stream",
          "name": "stdout",
          "text": [
            "\n",
            "Epoch 16: Train Loss = 0.4847\n"
          ]
        },
        {
          "output_type": "stream",
          "name": "stderr",
          "text": [
            "Epoch 16/70 [Validation]: 100%|██████████| 20/20 [00:00<00:00, 81.31it/s] "
          ]
        },
        {
          "output_type": "stream",
          "name": "stdout",
          "text": [
            "Epoch 16: Val Loss = 0.4750\n",
            "           Accuracy:  0.2013\n",
            "           Precision: 0.6976\n",
            "           Recall:    0.8705\n",
            "           F1 Score:  0.7679\n"
          ]
        },
        {
          "output_type": "stream",
          "name": "stderr",
          "text": [
            "\n"
          ]
        },
        {
          "output_type": "stream",
          "name": "stdout",
          "text": [
            "\n",
            "Epoch 17: Train Loss = 0.4739\n"
          ]
        },
        {
          "output_type": "stream",
          "name": "stderr",
          "text": [
            "Epoch 17/70 [Validation]: 100%|██████████| 20/20 [00:00<00:00, 75.76it/s] "
          ]
        },
        {
          "output_type": "stream",
          "name": "stdout",
          "text": [
            "Epoch 17: Val Loss = 0.4429\n",
            "           Accuracy:  0.2338\n",
            "           Precision: 0.7150\n",
            "           Recall:    0.8511\n",
            "           F1 Score:  0.7739\n"
          ]
        },
        {
          "output_type": "stream",
          "name": "stderr",
          "text": [
            "\n"
          ]
        },
        {
          "output_type": "stream",
          "name": "stdout",
          "text": [
            "\n",
            "Epoch 18: Train Loss = 0.4842\n"
          ]
        },
        {
          "output_type": "stream",
          "name": "stderr",
          "text": [
            "Epoch 18/70 [Validation]: 100%|██████████| 20/20 [00:00<00:00, 80.59it/s] "
          ]
        },
        {
          "output_type": "stream",
          "name": "stdout",
          "text": [
            "Epoch 18: Val Loss = 0.4792\n",
            "           Accuracy:  0.2240\n",
            "           Precision: 0.7032\n",
            "           Recall:    0.8623\n",
            "           F1 Score:  0.7677\n"
          ]
        },
        {
          "output_type": "stream",
          "name": "stderr",
          "text": [
            "\n"
          ]
        },
        {
          "output_type": "stream",
          "name": "stdout",
          "text": [
            "\n",
            "Epoch 19: Train Loss = 0.4695\n"
          ]
        },
        {
          "output_type": "stream",
          "name": "stderr",
          "text": [
            "Epoch 19/70 [Validation]: 100%|██████████| 20/20 [00:00<00:00, 79.89it/s] "
          ]
        },
        {
          "output_type": "stream",
          "name": "stdout",
          "text": [
            "Epoch 19: Val Loss = 0.4699\n",
            "           Accuracy:  0.2305\n",
            "           Precision: 0.7104\n",
            "           Recall:    0.8984\n",
            "           F1 Score:  0.7826\n"
          ]
        },
        {
          "output_type": "stream",
          "name": "stderr",
          "text": [
            "\n"
          ]
        },
        {
          "output_type": "stream",
          "name": "stdout",
          "text": [
            "\n",
            "Epoch 20: Train Loss = 0.4723\n"
          ]
        },
        {
          "output_type": "stream",
          "name": "stderr",
          "text": [
            "Epoch 20/70 [Validation]: 100%|██████████| 20/20 [00:00<00:00, 78.58it/s] "
          ]
        },
        {
          "output_type": "stream",
          "name": "stdout",
          "text": [
            "Epoch 20: Val Loss = 0.4523\n",
            "           Accuracy:  0.2468\n",
            "           Precision: 0.6986\n",
            "           Recall:    0.8731\n",
            "           F1 Score:  0.7740\n"
          ]
        },
        {
          "output_type": "stream",
          "name": "stderr",
          "text": [
            "\n"
          ]
        },
        {
          "output_type": "stream",
          "name": "stdout",
          "text": [
            "\n",
            "Epoch 21: Train Loss = 0.4685\n"
          ]
        },
        {
          "output_type": "stream",
          "name": "stderr",
          "text": [
            "Epoch 21/70 [Validation]: 100%|██████████| 20/20 [00:00<00:00, 75.30it/s] "
          ]
        },
        {
          "output_type": "stream",
          "name": "stdout",
          "text": [
            "Epoch 21: Val Loss = 0.4509\n",
            "           Accuracy:  0.2468\n",
            "           Precision: 0.7094\n",
            "           Recall:    0.8711\n",
            "           F1 Score:  0.7783\n"
          ]
        },
        {
          "output_type": "stream",
          "name": "stderr",
          "text": [
            "\n"
          ]
        },
        {
          "output_type": "stream",
          "name": "stdout",
          "text": [
            "\n",
            "Epoch 22: Train Loss = 0.4614\n"
          ]
        },
        {
          "output_type": "stream",
          "name": "stderr",
          "text": [
            "Epoch 22/70 [Validation]: 100%|██████████| 20/20 [00:00<00:00, 75.36it/s]"
          ]
        },
        {
          "output_type": "stream",
          "name": "stdout",
          "text": [
            "Epoch 22: Val Loss = 0.4837\n",
            "           Accuracy:  0.1899\n",
            "           Precision: 0.7171\n",
            "           Recall:    0.8643\n",
            "           F1 Score:  0.7606\n"
          ]
        },
        {
          "output_type": "stream",
          "name": "stderr",
          "text": [
            "\n"
          ]
        },
        {
          "output_type": "stream",
          "name": "stdout",
          "text": [
            "\n",
            "Epoch 23: Train Loss = 0.4538\n"
          ]
        },
        {
          "output_type": "stream",
          "name": "stderr",
          "text": [
            "Epoch 23/70 [Validation]: 100%|██████████| 20/20 [00:00<00:00, 78.51it/s] "
          ]
        },
        {
          "output_type": "stream",
          "name": "stdout",
          "text": [
            "Epoch 23: Val Loss = 0.4535\n",
            "           Accuracy:  0.2289\n",
            "           Precision: 0.7002\n",
            "           Recall:    0.8321\n",
            "           F1 Score:  0.7594\n"
          ]
        },
        {
          "output_type": "stream",
          "name": "stderr",
          "text": [
            "\n"
          ]
        },
        {
          "output_type": "stream",
          "name": "stdout",
          "text": [
            "\n",
            "Epoch 24: Train Loss = 0.4515\n"
          ]
        },
        {
          "output_type": "stream",
          "name": "stderr",
          "text": [
            "Epoch 24/70 [Validation]: 100%|██████████| 20/20 [00:00<00:00, 81.21it/s] "
          ]
        },
        {
          "output_type": "stream",
          "name": "stdout",
          "text": [
            "Epoch 24: Val Loss = 0.4330\n",
            "           Accuracy:  0.2549\n",
            "           Precision: 0.7395\n",
            "           Recall:    0.8371\n",
            "           F1 Score:  0.7798\n"
          ]
        },
        {
          "output_type": "stream",
          "name": "stderr",
          "text": [
            "\n"
          ]
        },
        {
          "output_type": "stream",
          "name": "stdout",
          "text": [
            "\n",
            "Epoch 25: Train Loss = 0.4435\n"
          ]
        },
        {
          "output_type": "stream",
          "name": "stderr",
          "text": [
            "Epoch 25/70 [Validation]: 100%|██████████| 20/20 [00:00<00:00, 81.06it/s] "
          ]
        },
        {
          "output_type": "stream",
          "name": "stdout",
          "text": [
            "Epoch 25: Val Loss = 0.4328\n",
            "           Accuracy:  0.2679\n",
            "           Precision: 0.7351\n",
            "           Recall:    0.7941\n",
            "           F1 Score:  0.7598\n"
          ]
        },
        {
          "output_type": "stream",
          "name": "stderr",
          "text": [
            "\n"
          ]
        },
        {
          "output_type": "stream",
          "name": "stdout",
          "text": [
            "\n",
            "Epoch 26: Train Loss = 0.4474\n"
          ]
        },
        {
          "output_type": "stream",
          "name": "stderr",
          "text": [
            "Epoch 26/70 [Validation]: 100%|██████████| 20/20 [00:00<00:00, 79.92it/s] "
          ]
        },
        {
          "output_type": "stream",
          "name": "stdout",
          "text": [
            "Epoch 26: Val Loss = 0.4463\n",
            "           Accuracy:  0.2208\n",
            "           Precision: 0.7017\n",
            "           Recall:    0.7992\n",
            "           F1 Score:  0.7456\n"
          ]
        },
        {
          "output_type": "stream",
          "name": "stderr",
          "text": [
            "\n"
          ]
        },
        {
          "output_type": "stream",
          "name": "stdout",
          "text": [
            "\n",
            "Epoch 27: Train Loss = 0.4485\n"
          ]
        },
        {
          "output_type": "stream",
          "name": "stderr",
          "text": [
            "Epoch 27/70 [Validation]: 100%|██████████| 20/20 [00:00<00:00, 81.75it/s] "
          ]
        },
        {
          "output_type": "stream",
          "name": "stdout",
          "text": [
            "Epoch 27: Val Loss = 0.4429\n",
            "           Accuracy:  0.2565\n",
            "           Precision: 0.7078\n",
            "           Recall:    0.8894\n",
            "           F1 Score:  0.7842\n"
          ]
        },
        {
          "output_type": "stream",
          "name": "stderr",
          "text": [
            "\n"
          ]
        },
        {
          "output_type": "stream",
          "name": "stdout",
          "text": [
            "\n",
            "Epoch 28: Train Loss = 0.4431\n"
          ]
        },
        {
          "output_type": "stream",
          "name": "stderr",
          "text": [
            "Epoch 28/70 [Validation]: 100%|██████████| 20/20 [00:00<00:00, 80.99it/s] "
          ]
        },
        {
          "output_type": "stream",
          "name": "stdout",
          "text": [
            "Epoch 28: Val Loss = 0.4469\n",
            "           Accuracy:  0.2435\n",
            "           Precision: 0.7292\n",
            "           Recall:    0.8777\n",
            "           F1 Score:  0.7877\n"
          ]
        },
        {
          "output_type": "stream",
          "name": "stderr",
          "text": [
            "\n"
          ]
        },
        {
          "output_type": "stream",
          "name": "stdout",
          "text": [
            "\n",
            "Epoch 29: Train Loss = 0.4376\n"
          ]
        },
        {
          "output_type": "stream",
          "name": "stderr",
          "text": [
            "Epoch 29/70 [Validation]: 100%|██████████| 20/20 [00:00<00:00, 78.48it/s] "
          ]
        },
        {
          "output_type": "stream",
          "name": "stdout",
          "text": [
            "Epoch 29: Val Loss = 0.4444\n",
            "           Accuracy:  0.2192\n",
            "           Precision: 0.6960\n",
            "           Recall:    0.8201\n",
            "           F1 Score:  0.7481\n"
          ]
        },
        {
          "output_type": "stream",
          "name": "stderr",
          "text": [
            "\n"
          ]
        },
        {
          "output_type": "stream",
          "name": "stdout",
          "text": [
            "\n",
            "Epoch 30: Train Loss = 0.4463\n"
          ]
        },
        {
          "output_type": "stream",
          "name": "stderr",
          "text": [
            "Epoch 30/70 [Validation]: 100%|██████████| 20/20 [00:00<00:00, 79.89it/s] "
          ]
        },
        {
          "output_type": "stream",
          "name": "stdout",
          "text": [
            "Epoch 30: Val Loss = 0.4848\n",
            "           Accuracy:  0.2321\n",
            "           Precision: 0.6958\n",
            "           Recall:    0.8949\n",
            "           F1 Score:  0.7757\n"
          ]
        },
        {
          "output_type": "stream",
          "name": "stderr",
          "text": [
            "\n"
          ]
        },
        {
          "output_type": "stream",
          "name": "stdout",
          "text": [
            "\n",
            "Epoch 31: Train Loss = 0.4374\n"
          ]
        },
        {
          "output_type": "stream",
          "name": "stderr",
          "text": [
            "Epoch 31/70 [Validation]: 100%|██████████| 20/20 [00:00<00:00, 78.22it/s]"
          ]
        },
        {
          "output_type": "stream",
          "name": "stdout",
          "text": [
            "Epoch 31: Val Loss = 0.4348\n",
            "           Accuracy:  0.2289\n",
            "           Precision: 0.7194\n",
            "           Recall:    0.7761\n",
            "           F1 Score:  0.7437\n"
          ]
        },
        {
          "output_type": "stream",
          "name": "stderr",
          "text": [
            "\n"
          ]
        },
        {
          "output_type": "stream",
          "name": "stdout",
          "text": [
            "\n",
            "Epoch 32: Train Loss = 0.4316\n"
          ]
        },
        {
          "output_type": "stream",
          "name": "stderr",
          "text": [
            "Epoch 32/70 [Validation]: 100%|██████████| 20/20 [00:00<00:00, 80.14it/s] "
          ]
        },
        {
          "output_type": "stream",
          "name": "stdout",
          "text": [
            "Epoch 32: Val Loss = 0.4465\n",
            "           Accuracy:  0.2175\n",
            "           Precision: 0.6957\n",
            "           Recall:    0.8367\n",
            "           F1 Score:  0.7569\n"
          ]
        },
        {
          "output_type": "stream",
          "name": "stderr",
          "text": [
            "\n"
          ]
        },
        {
          "output_type": "stream",
          "name": "stdout",
          "text": [
            "\n",
            "Epoch 33: Train Loss = 0.4167\n"
          ]
        },
        {
          "output_type": "stream",
          "name": "stderr",
          "text": [
            "Epoch 33/70 [Validation]: 100%|██████████| 20/20 [00:00<00:00, 80.77it/s] "
          ]
        },
        {
          "output_type": "stream",
          "name": "stdout",
          "text": [
            "Epoch 33: Val Loss = 0.4301\n",
            "           Accuracy:  0.2727\n",
            "           Precision: 0.7305\n",
            "           Recall:    0.8856\n",
            "           F1 Score:  0.7952\n"
          ]
        },
        {
          "output_type": "stream",
          "name": "stderr",
          "text": [
            "\n"
          ]
        },
        {
          "output_type": "stream",
          "name": "stdout",
          "text": [
            "\n",
            "Epoch 34: Train Loss = 0.4365\n"
          ]
        },
        {
          "output_type": "stream",
          "name": "stderr",
          "text": [
            "Epoch 34/70 [Validation]: 100%|██████████| 20/20 [00:00<00:00, 81.08it/s] "
          ]
        },
        {
          "output_type": "stream",
          "name": "stdout",
          "text": [
            "Epoch 34: Val Loss = 0.4566\n",
            "           Accuracy:  0.2403\n",
            "           Precision: 0.7050\n",
            "           Recall:    0.9434\n",
            "           F1 Score:  0.7967\n"
          ]
        },
        {
          "output_type": "stream",
          "name": "stderr",
          "text": [
            "\n"
          ]
        },
        {
          "output_type": "stream",
          "name": "stdout",
          "text": [
            "\n",
            "Epoch 35: Train Loss = 0.4174\n"
          ]
        },
        {
          "output_type": "stream",
          "name": "stderr",
          "text": [
            "Epoch 35/70 [Validation]: 100%|██████████| 20/20 [00:00<00:00, 80.72it/s] "
          ]
        },
        {
          "output_type": "stream",
          "name": "stdout",
          "text": [
            "Epoch 35: Val Loss = 0.4302\n",
            "           Accuracy:  0.2581\n",
            "           Precision: 0.7287\n",
            "           Recall:    0.9254\n",
            "           F1 Score:  0.8019\n"
          ]
        },
        {
          "output_type": "stream",
          "name": "stderr",
          "text": [
            "\n"
          ]
        },
        {
          "output_type": "stream",
          "name": "stdout",
          "text": [
            "\n",
            "Epoch 36: Train Loss = 0.4154\n"
          ]
        },
        {
          "output_type": "stream",
          "name": "stderr",
          "text": [
            "Epoch 36/70 [Validation]: 100%|██████████| 20/20 [00:00<00:00, 79.54it/s] "
          ]
        },
        {
          "output_type": "stream",
          "name": "stdout",
          "text": [
            "Epoch 36: Val Loss = 0.4570\n",
            "           Accuracy:  0.2451\n",
            "           Precision: 0.7044\n",
            "           Recall:    0.8024\n",
            "           F1 Score:  0.7472\n"
          ]
        },
        {
          "output_type": "stream",
          "name": "stderr",
          "text": [
            "\n"
          ]
        },
        {
          "output_type": "stream",
          "name": "stdout",
          "text": [
            "\n",
            "Epoch 37: Train Loss = 0.4222\n"
          ]
        },
        {
          "output_type": "stream",
          "name": "stderr",
          "text": [
            "Epoch 37/70 [Validation]: 100%|██████████| 20/20 [00:00<00:00, 79.71it/s] "
          ]
        },
        {
          "output_type": "stream",
          "name": "stdout",
          "text": [
            "Epoch 37: Val Loss = 0.5028\n",
            "           Accuracy:  0.2159\n",
            "           Precision: 0.6795\n",
            "           Recall:    0.8410\n",
            "           F1 Score:  0.7484\n"
          ]
        },
        {
          "output_type": "stream",
          "name": "stderr",
          "text": [
            "\n"
          ]
        },
        {
          "output_type": "stream",
          "name": "stdout",
          "text": [
            "\n",
            "Epoch 38: Train Loss = 0.4189\n"
          ]
        },
        {
          "output_type": "stream",
          "name": "stderr",
          "text": [
            "Epoch 38/70 [Validation]: 100%|██████████| 20/20 [00:00<00:00, 80.26it/s] "
          ]
        },
        {
          "output_type": "stream",
          "name": "stdout",
          "text": [
            "Epoch 38: Val Loss = 0.4267\n",
            "           Accuracy:  0.2630\n",
            "           Precision: 0.7226\n",
            "           Recall:    0.7901\n",
            "           F1 Score:  0.7496\n"
          ]
        },
        {
          "output_type": "stream",
          "name": "stderr",
          "text": [
            "\n"
          ]
        },
        {
          "output_type": "stream",
          "name": "stdout",
          "text": [
            "\n",
            "Epoch 39: Train Loss = 0.4116\n"
          ]
        },
        {
          "output_type": "stream",
          "name": "stderr",
          "text": [
            "Epoch 39/70 [Validation]: 100%|██████████| 20/20 [00:00<00:00, 79.67it/s]"
          ]
        },
        {
          "output_type": "stream",
          "name": "stdout",
          "text": [
            "Epoch 39: Val Loss = 0.4364\n",
            "           Accuracy:  0.2662\n",
            "           Precision: 0.7300\n",
            "           Recall:    0.8464\n",
            "           F1 Score:  0.7794\n"
          ]
        },
        {
          "output_type": "stream",
          "name": "stderr",
          "text": [
            "\n"
          ]
        },
        {
          "output_type": "stream",
          "name": "stdout",
          "text": [
            "\n",
            "Epoch 40: Train Loss = 0.4144\n"
          ]
        },
        {
          "output_type": "stream",
          "name": "stderr",
          "text": [
            "Epoch 40/70 [Validation]: 100%|██████████| 20/20 [00:00<00:00, 79.61it/s] "
          ]
        },
        {
          "output_type": "stream",
          "name": "stdout",
          "text": [
            "Epoch 40: Val Loss = 0.4231\n",
            "           Accuracy:  0.2549\n",
            "           Precision: 0.7297\n",
            "           Recall:    0.8309\n",
            "           F1 Score:  0.7732\n"
          ]
        },
        {
          "output_type": "stream",
          "name": "stderr",
          "text": [
            "\n"
          ]
        },
        {
          "output_type": "stream",
          "name": "stdout",
          "text": [
            "\n",
            "Epoch 41: Train Loss = 0.4066\n"
          ]
        },
        {
          "output_type": "stream",
          "name": "stderr",
          "text": [
            "Epoch 41/70 [Validation]: 100%|██████████| 20/20 [00:00<00:00, 79.56it/s] "
          ]
        },
        {
          "output_type": "stream",
          "name": "stdout",
          "text": [
            "Epoch 41: Val Loss = 0.4393\n",
            "           Accuracy:  0.2679\n",
            "           Precision: 0.7310\n",
            "           Recall:    0.8347\n",
            "           F1 Score:  0.7772\n"
          ]
        },
        {
          "output_type": "stream",
          "name": "stderr",
          "text": [
            "\n"
          ]
        },
        {
          "output_type": "stream",
          "name": "stdout",
          "text": [
            "\n",
            "Epoch 42: Train Loss = 0.4020\n"
          ]
        },
        {
          "output_type": "stream",
          "name": "stderr",
          "text": [
            "Epoch 42/70 [Validation]: 100%|██████████| 20/20 [00:00<00:00, 75.03it/s] "
          ]
        },
        {
          "output_type": "stream",
          "name": "stdout",
          "text": [
            "Epoch 42: Val Loss = 0.4304\n",
            "           Accuracy:  0.2711\n",
            "           Precision: 0.7340\n",
            "           Recall:    0.8217\n",
            "           F1 Score:  0.7697\n"
          ]
        },
        {
          "output_type": "stream",
          "name": "stderr",
          "text": [
            "\n"
          ]
        },
        {
          "output_type": "stream",
          "name": "stdout",
          "text": [
            "\n",
            "Epoch 43: Train Loss = 0.4057\n"
          ]
        },
        {
          "output_type": "stream",
          "name": "stderr",
          "text": [
            "Epoch 43/70 [Validation]: 100%|██████████| 20/20 [00:00<00:00, 79.62it/s] "
          ]
        },
        {
          "output_type": "stream",
          "name": "stdout",
          "text": [
            "Epoch 43: Val Loss = 0.4582\n",
            "           Accuracy:  0.2435\n",
            "           Precision: 0.7112\n",
            "           Recall:    0.8409\n",
            "           F1 Score:  0.7681\n"
          ]
        },
        {
          "output_type": "stream",
          "name": "stderr",
          "text": [
            "\n"
          ]
        },
        {
          "output_type": "stream",
          "name": "stdout",
          "text": [
            "\n",
            "Epoch 44: Train Loss = 0.4049\n"
          ]
        },
        {
          "output_type": "stream",
          "name": "stderr",
          "text": [
            "Epoch 44/70 [Validation]: 100%|██████████| 20/20 [00:00<00:00, 80.87it/s] "
          ]
        },
        {
          "output_type": "stream",
          "name": "stdout",
          "text": [
            "Epoch 44: Val Loss = 0.4273\n",
            "           Accuracy:  0.2792\n",
            "           Precision: 0.7606\n",
            "           Recall:    0.7383\n",
            "           F1 Score:  0.7452\n"
          ]
        },
        {
          "output_type": "stream",
          "name": "stderr",
          "text": [
            "\n"
          ]
        },
        {
          "output_type": "stream",
          "name": "stdout",
          "text": [
            "\n",
            "Epoch 45: Train Loss = 0.4064\n"
          ]
        },
        {
          "output_type": "stream",
          "name": "stderr",
          "text": [
            "Epoch 45/70 [Validation]: 100%|██████████| 20/20 [00:00<00:00, 79.68it/s] "
          ]
        },
        {
          "output_type": "stream",
          "name": "stdout",
          "text": [
            "Epoch 45: Val Loss = 0.4691\n",
            "           Accuracy:  0.2289\n",
            "           Precision: 0.7148\n",
            "           Recall:    0.8350\n",
            "           F1 Score:  0.7658\n"
          ]
        },
        {
          "output_type": "stream",
          "name": "stderr",
          "text": [
            "\n"
          ]
        },
        {
          "output_type": "stream",
          "name": "stdout",
          "text": [
            "\n",
            "Epoch 46: Train Loss = 0.4019\n"
          ]
        },
        {
          "output_type": "stream",
          "name": "stderr",
          "text": [
            "Epoch 46/70 [Validation]: 100%|██████████| 20/20 [00:00<00:00, 82.24it/s]"
          ]
        },
        {
          "output_type": "stream",
          "name": "stdout",
          "text": [
            "Epoch 46: Val Loss = 0.4572\n",
            "           Accuracy:  0.2451\n",
            "           Precision: 0.7140\n",
            "           Recall:    0.9102\n",
            "           F1 Score:  0.7911\n"
          ]
        },
        {
          "output_type": "stream",
          "name": "stderr",
          "text": [
            "\n"
          ]
        },
        {
          "output_type": "stream",
          "name": "stdout",
          "text": [
            "\n",
            "Epoch 47: Train Loss = 0.3983\n"
          ]
        },
        {
          "output_type": "stream",
          "name": "stderr",
          "text": [
            "Epoch 47/70 [Validation]: 100%|██████████| 20/20 [00:00<00:00, 77.68it/s]"
          ]
        },
        {
          "output_type": "stream",
          "name": "stdout",
          "text": [
            "Epoch 47: Val Loss = 0.4293\n",
            "           Accuracy:  0.2419\n",
            "           Precision: 0.7314\n",
            "           Recall:    0.8010\n",
            "           F1 Score:  0.7634\n"
          ]
        },
        {
          "output_type": "stream",
          "name": "stderr",
          "text": [
            "\n"
          ]
        },
        {
          "output_type": "stream",
          "name": "stdout",
          "text": [
            "\n",
            "Epoch 48: Train Loss = 0.3962\n"
          ]
        },
        {
          "output_type": "stream",
          "name": "stderr",
          "text": [
            "Epoch 48/70 [Validation]: 100%|██████████| 20/20 [00:00<00:00, 78.73it/s]"
          ]
        },
        {
          "output_type": "stream",
          "name": "stdout",
          "text": [
            "Epoch 48: Val Loss = 0.4167\n",
            "           Accuracy:  0.2711\n",
            "           Precision: 0.7448\n",
            "           Recall:    0.8384\n",
            "           F1 Score:  0.7860\n"
          ]
        },
        {
          "output_type": "stream",
          "name": "stderr",
          "text": [
            "\n"
          ]
        },
        {
          "output_type": "stream",
          "name": "stdout",
          "text": [
            "\n",
            "Epoch 49: Train Loss = 0.4065\n"
          ]
        },
        {
          "output_type": "stream",
          "name": "stderr",
          "text": [
            "Epoch 49/70 [Validation]: 100%|██████████| 20/20 [00:00<00:00, 79.21it/s]"
          ]
        },
        {
          "output_type": "stream",
          "name": "stdout",
          "text": [
            "Epoch 49: Val Loss = 0.4315\n",
            "           Accuracy:  0.2727\n",
            "           Precision: 0.7383\n",
            "           Recall:    0.8912\n",
            "           F1 Score:  0.8007\n"
          ]
        },
        {
          "output_type": "stream",
          "name": "stderr",
          "text": [
            "\n"
          ]
        },
        {
          "output_type": "stream",
          "name": "stdout",
          "text": [
            "\n",
            "Epoch 50: Train Loss = 0.3924\n"
          ]
        },
        {
          "output_type": "stream",
          "name": "stderr",
          "text": [
            "Epoch 50/70 [Validation]: 100%|██████████| 20/20 [00:00<00:00, 79.26it/s] "
          ]
        },
        {
          "output_type": "stream",
          "name": "stdout",
          "text": [
            "Epoch 50: Val Loss = 0.4365\n",
            "           Accuracy:  0.2403\n",
            "           Precision: 0.7311\n",
            "           Recall:    0.7997\n",
            "           F1 Score:  0.7622\n"
          ]
        },
        {
          "output_type": "stream",
          "name": "stderr",
          "text": [
            "\n"
          ]
        },
        {
          "output_type": "stream",
          "name": "stdout",
          "text": [
            "\n",
            "Epoch 51: Train Loss = 0.4069\n"
          ]
        },
        {
          "output_type": "stream",
          "name": "stderr",
          "text": [
            "Epoch 51/70 [Validation]: 100%|██████████| 20/20 [00:00<00:00, 79.68it/s] "
          ]
        },
        {
          "output_type": "stream",
          "name": "stdout",
          "text": [
            "Epoch 51: Val Loss = 0.4410\n",
            "           Accuracy:  0.2516\n",
            "           Precision: 0.7329\n",
            "           Recall:    0.8464\n",
            "           F1 Score:  0.7789\n"
          ]
        },
        {
          "output_type": "stream",
          "name": "stderr",
          "text": [
            "\n"
          ]
        },
        {
          "output_type": "stream",
          "name": "stdout",
          "text": [
            "\n",
            "Epoch 52: Train Loss = 0.4004\n"
          ]
        },
        {
          "output_type": "stream",
          "name": "stderr",
          "text": [
            "Epoch 52/70 [Validation]: 100%|██████████| 20/20 [00:00<00:00, 79.71it/s] "
          ]
        },
        {
          "output_type": "stream",
          "name": "stdout",
          "text": [
            "Epoch 52: Val Loss = 0.4715\n",
            "           Accuracy:  0.2435\n",
            "           Precision: 0.7153\n",
            "           Recall:    0.8179\n",
            "           F1 Score:  0.7621\n"
          ]
        },
        {
          "output_type": "stream",
          "name": "stderr",
          "text": [
            "\n"
          ]
        },
        {
          "output_type": "stream",
          "name": "stdout",
          "text": [
            "\n",
            "Epoch 53: Train Loss = 0.3896\n"
          ]
        },
        {
          "output_type": "stream",
          "name": "stderr",
          "text": [
            "Epoch 53/70 [Validation]: 100%|██████████| 20/20 [00:00<00:00, 80.40it/s] "
          ]
        },
        {
          "output_type": "stream",
          "name": "stdout",
          "text": [
            "Epoch 53: Val Loss = 0.4510\n",
            "           Accuracy:  0.2630\n",
            "           Precision: 0.7435\n",
            "           Recall:    0.8173\n",
            "           F1 Score:  0.7757\n"
          ]
        },
        {
          "output_type": "stream",
          "name": "stderr",
          "text": [
            "\n"
          ]
        },
        {
          "output_type": "stream",
          "name": "stdout",
          "text": [
            "\n",
            "Epoch 54: Train Loss = 0.3892\n"
          ]
        },
        {
          "output_type": "stream",
          "name": "stderr",
          "text": [
            "Epoch 54/70 [Validation]: 100%|██████████| 20/20 [00:00<00:00, 80.37it/s] "
          ]
        },
        {
          "output_type": "stream",
          "name": "stdout",
          "text": [
            "Epoch 54: Val Loss = 0.4417\n",
            "           Accuracy:  0.2662\n",
            "           Precision: 0.7522\n",
            "           Recall:    0.7374\n",
            "           F1 Score:  0.7355\n"
          ]
        },
        {
          "output_type": "stream",
          "name": "stderr",
          "text": [
            "\n"
          ]
        },
        {
          "output_type": "stream",
          "name": "stdout",
          "text": [
            "\n",
            "Epoch 55: Train Loss = 0.3902\n"
          ]
        },
        {
          "output_type": "stream",
          "name": "stderr",
          "text": [
            "Epoch 55/70 [Validation]: 100%|██████████| 20/20 [00:00<00:00, 80.72it/s] "
          ]
        },
        {
          "output_type": "stream",
          "name": "stdout",
          "text": [
            "Epoch 55: Val Loss = 0.4411\n",
            "           Accuracy:  0.2630\n",
            "           Precision: 0.7259\n",
            "           Recall:    0.8714\n",
            "           F1 Score:  0.7878\n"
          ]
        },
        {
          "output_type": "stream",
          "name": "stderr",
          "text": [
            "\n"
          ]
        },
        {
          "output_type": "stream",
          "name": "stdout",
          "text": [
            "\n",
            "Epoch 56: Train Loss = 0.3844\n"
          ]
        },
        {
          "output_type": "stream",
          "name": "stderr",
          "text": [
            "Epoch 56/70 [Validation]: 100%|██████████| 20/20 [00:00<00:00, 77.83it/s]"
          ]
        },
        {
          "output_type": "stream",
          "name": "stdout",
          "text": [
            "Epoch 56: Val Loss = 0.4495\n",
            "           Accuracy:  0.2484\n",
            "           Precision: 0.7288\n",
            "           Recall:    0.8161\n",
            "           F1 Score:  0.7670\n"
          ]
        },
        {
          "output_type": "stream",
          "name": "stderr",
          "text": [
            "\n"
          ]
        },
        {
          "output_type": "stream",
          "name": "stdout",
          "text": [
            "\n",
            "Epoch 57: Train Loss = 0.3842\n"
          ]
        },
        {
          "output_type": "stream",
          "name": "stderr",
          "text": [
            "Epoch 57/70 [Validation]: 100%|██████████| 20/20 [00:00<00:00, 80.03it/s] "
          ]
        },
        {
          "output_type": "stream",
          "name": "stdout",
          "text": [
            "Epoch 57: Val Loss = 0.4251\n",
            "           Accuracy:  0.2744\n",
            "           Precision: 0.7487\n",
            "           Recall:    0.8394\n",
            "           F1 Score:  0.7862\n"
          ]
        },
        {
          "output_type": "stream",
          "name": "stderr",
          "text": [
            "\n"
          ]
        },
        {
          "output_type": "stream",
          "name": "stdout",
          "text": [
            "\n",
            "Epoch 58: Train Loss = 0.3885\n"
          ]
        },
        {
          "output_type": "stream",
          "name": "stderr",
          "text": [
            "Epoch 58/70 [Validation]: 100%|██████████| 20/20 [00:00<00:00, 77.48it/s] "
          ]
        },
        {
          "output_type": "stream",
          "name": "stdout",
          "text": [
            "Epoch 58: Val Loss = 0.4990\n",
            "           Accuracy:  0.2532\n",
            "           Precision: 0.7366\n",
            "           Recall:    0.8848\n",
            "           F1 Score:  0.7919\n"
          ]
        },
        {
          "output_type": "stream",
          "name": "stderr",
          "text": [
            "\n"
          ]
        },
        {
          "output_type": "stream",
          "name": "stdout",
          "text": [
            "\n",
            "Epoch 59: Train Loss = 0.3895\n"
          ]
        },
        {
          "output_type": "stream",
          "name": "stderr",
          "text": [
            "Epoch 59/70 [Validation]: 100%|██████████| 20/20 [00:00<00:00, 81.29it/s] "
          ]
        },
        {
          "output_type": "stream",
          "name": "stdout",
          "text": [
            "Epoch 59: Val Loss = 0.5162\n",
            "           Accuracy:  0.2451\n",
            "           Precision: 0.7417\n",
            "           Recall:    0.8085\n",
            "           F1 Score:  0.7683\n"
          ]
        },
        {
          "output_type": "stream",
          "name": "stderr",
          "text": [
            "\n"
          ]
        },
        {
          "output_type": "stream",
          "name": "stdout",
          "text": [
            "\n",
            "Epoch 60: Train Loss = 0.3778\n"
          ]
        },
        {
          "output_type": "stream",
          "name": "stderr",
          "text": [
            "Epoch 60/70 [Validation]: 100%|██████████| 20/20 [00:00<00:00, 79.89it/s] "
          ]
        },
        {
          "output_type": "stream",
          "name": "stdout",
          "text": [
            "Epoch 60: Val Loss = 0.4224\n",
            "           Accuracy:  0.2614\n",
            "           Precision: 0.7378\n",
            "           Recall:    0.8038\n",
            "           F1 Score:  0.7636\n"
          ]
        },
        {
          "output_type": "stream",
          "name": "stderr",
          "text": [
            "\n"
          ]
        },
        {
          "output_type": "stream",
          "name": "stdout",
          "text": [
            "\n",
            "Epoch 61: Train Loss = 0.3830\n"
          ]
        },
        {
          "output_type": "stream",
          "name": "stderr",
          "text": [
            "Epoch 61/70 [Validation]: 100%|██████████| 20/20 [00:00<00:00, 79.76it/s] "
          ]
        },
        {
          "output_type": "stream",
          "name": "stdout",
          "text": [
            "Epoch 61: Val Loss = 0.4272\n",
            "           Accuracy:  0.2841\n",
            "           Precision: 0.7436\n",
            "           Recall:    0.7959\n",
            "           F1 Score:  0.7672\n"
          ]
        },
        {
          "output_type": "stream",
          "name": "stderr",
          "text": [
            "\n"
          ]
        },
        {
          "output_type": "stream",
          "name": "stdout",
          "text": [
            "\n",
            "Epoch 62: Train Loss = 0.3815\n"
          ]
        },
        {
          "output_type": "stream",
          "name": "stderr",
          "text": [
            "Epoch 62/70 [Validation]: 100%|██████████| 20/20 [00:00<00:00, 78.21it/s] "
          ]
        },
        {
          "output_type": "stream",
          "name": "stdout",
          "text": [
            "Epoch 62: Val Loss = 0.4614\n",
            "           Accuracy:  0.2873\n",
            "           Precision: 0.7546\n",
            "           Recall:    0.7943\n",
            "           F1 Score:  0.7716\n"
          ]
        },
        {
          "output_type": "stream",
          "name": "stderr",
          "text": [
            "\n"
          ]
        },
        {
          "output_type": "stream",
          "name": "stdout",
          "text": [
            "\n",
            "Epoch 63: Train Loss = 0.3775\n"
          ]
        },
        {
          "output_type": "stream",
          "name": "stderr",
          "text": [
            "Epoch 63/70 [Validation]: 100%|██████████| 20/20 [00:00<00:00, 80.44it/s] "
          ]
        },
        {
          "output_type": "stream",
          "name": "stdout",
          "text": [
            "Epoch 63: Val Loss = 0.5022\n",
            "           Accuracy:  0.2760\n",
            "           Precision: 0.7147\n",
            "           Recall:    0.8754\n",
            "           F1 Score:  0.7840\n"
          ]
        },
        {
          "output_type": "stream",
          "name": "stderr",
          "text": [
            "\n"
          ]
        },
        {
          "output_type": "stream",
          "name": "stdout",
          "text": [
            "\n",
            "Epoch 64: Train Loss = 0.3813\n"
          ]
        },
        {
          "output_type": "stream",
          "name": "stderr",
          "text": [
            "Epoch 64/70 [Validation]: 100%|██████████| 20/20 [00:00<00:00, 74.36it/s]"
          ]
        },
        {
          "output_type": "stream",
          "name": "stdout",
          "text": [
            "Epoch 64: Val Loss = 0.4025\n",
            "           Accuracy:  0.3084\n",
            "           Precision: 0.7570\n",
            "           Recall:    0.8326\n",
            "           F1 Score:  0.7896\n"
          ]
        },
        {
          "output_type": "stream",
          "name": "stderr",
          "text": [
            "\n"
          ]
        },
        {
          "output_type": "stream",
          "name": "stdout",
          "text": [
            "\n",
            "Epoch 65: Train Loss = 0.3743\n"
          ]
        },
        {
          "output_type": "stream",
          "name": "stderr",
          "text": [
            "Epoch 65/70 [Validation]: 100%|██████████| 20/20 [00:00<00:00, 78.49it/s] "
          ]
        },
        {
          "output_type": "stream",
          "name": "stdout",
          "text": [
            "Epoch 65: Val Loss = 0.4176\n",
            "           Accuracy:  0.2987\n",
            "           Precision: 0.7605\n",
            "           Recall:    0.8028\n",
            "           F1 Score:  0.7773\n"
          ]
        },
        {
          "output_type": "stream",
          "name": "stderr",
          "text": [
            "\n"
          ]
        },
        {
          "output_type": "stream",
          "name": "stdout",
          "text": [
            "\n",
            "Epoch 66: Train Loss = 0.3759\n"
          ]
        },
        {
          "output_type": "stream",
          "name": "stderr",
          "text": [
            "Epoch 66/70 [Validation]: 100%|██████████| 20/20 [00:00<00:00, 80.23it/s] "
          ]
        },
        {
          "output_type": "stream",
          "name": "stdout",
          "text": [
            "Epoch 66: Val Loss = 0.4643\n",
            "           Accuracy:  0.2744\n",
            "           Precision: 0.7404\n",
            "           Recall:    0.8999\n",
            "           F1 Score:  0.8053\n"
          ]
        },
        {
          "output_type": "stream",
          "name": "stderr",
          "text": [
            "\n"
          ]
        },
        {
          "output_type": "stream",
          "name": "stdout",
          "text": [
            "\n",
            "Epoch 67: Train Loss = 0.3808\n"
          ]
        },
        {
          "output_type": "stream",
          "name": "stderr",
          "text": [
            "Epoch 67/70 [Validation]: 100%|██████████| 20/20 [00:00<00:00, 80.76it/s] "
          ]
        },
        {
          "output_type": "stream",
          "name": "stdout",
          "text": [
            "Epoch 67: Val Loss = 0.4821\n",
            "           Accuracy:  0.2662\n",
            "           Precision: 0.7297\n",
            "           Recall:    0.8585\n",
            "           F1 Score:  0.7845\n"
          ]
        },
        {
          "output_type": "stream",
          "name": "stderr",
          "text": [
            "\n"
          ]
        },
        {
          "output_type": "stream",
          "name": "stdout",
          "text": [
            "\n",
            "Epoch 68: Train Loss = 0.3708\n"
          ]
        },
        {
          "output_type": "stream",
          "name": "stderr",
          "text": [
            "Epoch 68/70 [Validation]: 100%|██████████| 20/20 [00:00<00:00, 81.77it/s] "
          ]
        },
        {
          "output_type": "stream",
          "name": "stdout",
          "text": [
            "Epoch 68: Val Loss = 0.4766\n",
            "           Accuracy:  0.2711\n",
            "           Precision: 0.7348\n",
            "           Recall:    0.8836\n",
            "           F1 Score:  0.7974\n"
          ]
        },
        {
          "output_type": "stream",
          "name": "stderr",
          "text": [
            "\n"
          ]
        },
        {
          "output_type": "stream",
          "name": "stdout",
          "text": [
            "\n",
            "Epoch 69: Train Loss = 0.3688\n"
          ]
        },
        {
          "output_type": "stream",
          "name": "stderr",
          "text": [
            "Epoch 69/70 [Validation]: 100%|██████████| 20/20 [00:00<00:00, 79.30it/s] "
          ]
        },
        {
          "output_type": "stream",
          "name": "stdout",
          "text": [
            "Epoch 69: Val Loss = 0.5944\n",
            "           Accuracy:  0.2403\n",
            "           Precision: 0.6992\n",
            "           Recall:    0.8256\n",
            "           F1 Score:  0.7506\n"
          ]
        },
        {
          "output_type": "stream",
          "name": "stderr",
          "text": [
            "\n"
          ]
        },
        {
          "output_type": "stream",
          "name": "stdout",
          "text": [
            "\n",
            "Epoch 70: Train Loss = 0.3744\n"
          ]
        },
        {
          "output_type": "stream",
          "name": "stderr",
          "text": [
            "Epoch 70/70 [Validation]: 100%|██████████| 20/20 [00:00<00:00, 79.29it/s] \n"
          ]
        },
        {
          "output_type": "stream",
          "name": "stdout",
          "text": [
            "Epoch 70: Val Loss = 0.4211\n",
            "           Accuracy:  0.2808\n",
            "           Precision: 0.7459\n",
            "           Recall:    0.8612\n",
            "           F1 Score:  0.7963\n"
          ]
        },
        {
          "output_type": "stream",
          "name": "stderr",
          "text": [
            "Testing: 100%|██████████| 20/20 [00:00<00:00, 77.84it/s] "
          ]
        },
        {
          "output_type": "stream",
          "name": "stdout",
          "text": [
            "\n",
            " Test Results:\n",
            "   Test Loss:   0.4667\n",
            "   Accuracy:    0.2880\n",
            "   Precision:   0.7518\n",
            "   Recall:      0.8473\n",
            "   F1 Score:    0.7925\n",
            "\n",
            "Per-label Metrics:\n",
            "Distortion: Precision: 0.9672, Recall: 0.9486, F1: 0.9578\n",
            "Chorus: Precision: 0.5164, Recall: 0.6571, F1: 0.5783\n",
            "Delay: Precision: 0.5809, Recall: 0.8147, F1: 0.6782\n",
            "Reverb: Precision: 0.9426, Recall: 0.9689, F1: 0.9556\n"
          ]
        },
        {
          "output_type": "stream",
          "name": "stderr",
          "text": [
            "\n"
          ]
        }
      ]
    },
    {
      "cell_type": "markdown",
      "source": [
        "OPTIONAL: SAVING OR LOADING\n",
        "\n",
        "Run the first block if you'd like to save the trained model as Pytorch full model and/or weights files. Will save to Colab disk, and can be downloaded to your local machine from there.\n",
        "\n",
        "Run the second block to load in pth files for a previously trained classifer. Files should be correctly named and already loaded into your Colab disk storage."
      ],
      "metadata": {
        "id": "pIDeCLEeFVsJ"
      }
    },
    {
      "cell_type": "code",
      "source": [
        "# Assume model is your PyTorch model instance\n",
        "torch.save(classifier.state_dict(), 'model_weights.pth')\n",
        "torch.save(classifier, 'full_model.pth')"
      ],
      "metadata": {
        "id": "5bCHoeoAWa6r"
      },
      "execution_count": null,
      "outputs": []
    },
    {
      "cell_type": "code",
      "source": [
        "classifier = torch.load('full_model.pth')\n",
        "classifier.load_state_dict(torch.load('model_weights.pth'))"
      ],
      "metadata": {
        "id": "hVhJA_kyXBbw",
        "colab": {
          "base_uri": "https://localhost:8080/",
          "height": 680
        },
        "outputId": "44fe6634-132a-4575-938c-5365e3a75209"
      },
      "execution_count": null,
      "outputs": [
        {
          "output_type": "error",
          "ename": "UnpicklingError",
          "evalue": "Weights only load failed. This file can still be loaded, to do so you have two options, \u001b[1mdo those steps only if you trust the source of the checkpoint\u001b[0m. \n\t(1) In PyTorch 2.6, we changed the default value of the `weights_only` argument in `torch.load` from `False` to `True`. Re-running `torch.load` with `weights_only` set to `False` will likely succeed, but it can result in arbitrary code execution. Do it only if you got the file from a trusted source.\n\t(2) Alternatively, to load with `weights_only=True` please check the recommended steps in the following error message.\n\tWeightsUnpickler error: Unsupported global: GLOBAL __main__.Classifier was not an allowed global by default. Please use `torch.serialization.add_safe_globals([Classifier])` or the `torch.serialization.safe_globals([Classifier])` context manager to allowlist this global if you trust this class/function.\n\nCheck the documentation of torch.load to learn more about types accepted by default with weights_only https://pytorch.org/docs/stable/generated/torch.load.html.",
          "traceback": [
            "\u001b[0;31m---------------------------------------------------------------------------\u001b[0m",
            "\u001b[0;31mUnpicklingError\u001b[0m                           Traceback (most recent call last)",
            "\u001b[0;32m<ipython-input-13-5c9e086f99e9>\u001b[0m in \u001b[0;36m<cell line: 0>\u001b[0;34m()\u001b[0m\n\u001b[0;32m----> 1\u001b[0;31m \u001b[0mclassifier\u001b[0m \u001b[0;34m=\u001b[0m \u001b[0mtorch\u001b[0m\u001b[0;34m.\u001b[0m\u001b[0mload\u001b[0m\u001b[0;34m(\u001b[0m\u001b[0;34m'full_model.pth'\u001b[0m\u001b[0;34m)\u001b[0m\u001b[0;34m\u001b[0m\u001b[0;34m\u001b[0m\u001b[0m\n\u001b[0m\u001b[1;32m      2\u001b[0m \u001b[0mclassifier\u001b[0m\u001b[0;34m.\u001b[0m\u001b[0mload_state_dict\u001b[0m\u001b[0;34m(\u001b[0m\u001b[0mtorch\u001b[0m\u001b[0;34m.\u001b[0m\u001b[0mload\u001b[0m\u001b[0;34m(\u001b[0m\u001b[0;34m'model_weights.pth'\u001b[0m\u001b[0;34m)\u001b[0m\u001b[0;34m)\u001b[0m\u001b[0;34m\u001b[0m\u001b[0;34m\u001b[0m\u001b[0m\n",
            "\u001b[0;32m/usr/local/lib/python3.11/dist-packages/torch/serialization.py\u001b[0m in \u001b[0;36mload\u001b[0;34m(f, map_location, pickle_module, weights_only, mmap, **pickle_load_args)\u001b[0m\n\u001b[1;32m   1468\u001b[0m                         )\n\u001b[1;32m   1469\u001b[0m                     \u001b[0;32mexcept\u001b[0m \u001b[0mpickle\u001b[0m\u001b[0;34m.\u001b[0m\u001b[0mUnpicklingError\u001b[0m \u001b[0;32mas\u001b[0m \u001b[0me\u001b[0m\u001b[0;34m:\u001b[0m\u001b[0;34m\u001b[0m\u001b[0;34m\u001b[0m\u001b[0m\n\u001b[0;32m-> 1470\u001b[0;31m                         \u001b[0;32mraise\u001b[0m \u001b[0mpickle\u001b[0m\u001b[0;34m.\u001b[0m\u001b[0mUnpicklingError\u001b[0m\u001b[0;34m(\u001b[0m\u001b[0m_get_wo_message\u001b[0m\u001b[0;34m(\u001b[0m\u001b[0mstr\u001b[0m\u001b[0;34m(\u001b[0m\u001b[0me\u001b[0m\u001b[0;34m)\u001b[0m\u001b[0;34m)\u001b[0m\u001b[0;34m)\u001b[0m \u001b[0;32mfrom\u001b[0m \u001b[0;32mNone\u001b[0m\u001b[0;34m\u001b[0m\u001b[0;34m\u001b[0m\u001b[0m\n\u001b[0m\u001b[1;32m   1471\u001b[0m                 return _load(\n\u001b[1;32m   1472\u001b[0m                     \u001b[0mopened_zipfile\u001b[0m\u001b[0;34m,\u001b[0m\u001b[0;34m\u001b[0m\u001b[0;34m\u001b[0m\u001b[0m\n",
            "\u001b[0;31mUnpicklingError\u001b[0m: Weights only load failed. This file can still be loaded, to do so you have two options, \u001b[1mdo those steps only if you trust the source of the checkpoint\u001b[0m. \n\t(1) In PyTorch 2.6, we changed the default value of the `weights_only` argument in `torch.load` from `False` to `True`. Re-running `torch.load` with `weights_only` set to `False` will likely succeed, but it can result in arbitrary code execution. Do it only if you got the file from a trusted source.\n\t(2) Alternatively, to load with `weights_only=True` please check the recommended steps in the following error message.\n\tWeightsUnpickler error: Unsupported global: GLOBAL __main__.Classifier was not an allowed global by default. Please use `torch.serialization.add_safe_globals([Classifier])` or the `torch.serialization.safe_globals([Classifier])` context manager to allowlist this global if you trust this class/function.\n\nCheck the documentation of torch.load to learn more about types accepted by default with weights_only https://pytorch.org/docs/stable/generated/torch.load.html."
          ]
        }
      ]
    },
    {
      "cell_type": "markdown",
      "source": [
        "# Test Real Audio!\n",
        "You can upload WAVs here to test with the model."
      ],
      "metadata": {
        "id": "0kcFseUohmL6"
      }
    },
    {
      "cell_type": "code",
      "source": [
        "from google.colab import files\n",
        "import io\n",
        "import soundfile as sf\n",
        "\n",
        "# Function to preprocess a single uploaded file\n",
        "def preprocess_uploaded_audio(file_path):\n",
        "    audio, sr = librosa.load(file_path, sr=SAMPLE_RATE, mono=MONO)\n",
        "    if MONO:\n",
        "        audio_trimmed, _ = librosa.effects.trim(audio)\n",
        "        if len(audio_trimmed) < AUDIO_LENGTH:\n",
        "            audio_trimmed = np.pad(audio_trimmed, (0, AUDIO_LENGTH - len(audio_trimmed)))\n",
        "        else:\n",
        "            audio_trimmed = audio_trimmed[:AUDIO_LENGTH]\n",
        "        rms = np.sqrt(np.mean(audio_trimmed**2))\n",
        "        gain = 0.1 / rms if rms > 0 else 1.0\n",
        "        audio_trimmed *= gain\n",
        "        mel = librosa.feature.melspectrogram(y=audio_trimmed, sr=SAMPLE_RATE, n_mels=N_MELS)\n",
        "        mel_db = librosa.power_to_db(mel, ref=np.max)\n",
        "        mel_db = (mel_db + 80) / 80.0\n",
        "        mel_tensor = torch.tensor(mel_db, dtype=torch.float32).unsqueeze(0).unsqueeze(0)  # (batch, channel, mel, time)\n",
        "    else:\n",
        "        mel_specs = []\n",
        "        for ch in range(2):  # Assume stereo\n",
        "            audio_ch = audio[ch]\n",
        "            audio_trimmed, _ = librosa.effects.trim(audio_ch)\n",
        "            if len(audio_trimmed) < AUDIO_LENGTH:\n",
        "                audio_trimmed = np.pad(audio_trimmed, (0, AUDIO_LENGTH - len(audio_trimmed)))\n",
        "            else:\n",
        "                audio_trimmed = audio_trimmed[:AUDIO_LENGTH]\n",
        "            rms = np.sqrt(np.mean(audio_trimmed**2))\n",
        "            gain = 0.1 / rms if rms > 0 else 1.0\n",
        "            audio_trimmed *= gain\n",
        "            mel = librosa.feature.melspectrogram(y=audio_trimmed, sr=SAMPLE_RATE, n_mels=N_MELS)\n",
        "            mel_db = librosa.power_to_db(mel, ref=np.max)\n",
        "            mel_db = (mel_db + 80) / 80.0\n",
        "            mel_specs.append(mel_db)\n",
        "        mel_tensor = torch.tensor(np.stack(mel_specs), dtype=torch.float32).unsqueeze(0)  # (batch, channel, mel, time)\n",
        "    return mel_tensor.to(device)\n",
        "\n",
        "# Upload and test\n",
        "uploaded = files.upload()\n",
        "\n",
        "for filename in uploaded.keys():\n",
        "    print(f\"Processing {filename}...\")\n",
        "    mel_tensor = preprocess_uploaded_audio(filename)\n",
        "    classifier.eval()\n",
        "    with torch.no_grad():\n",
        "        prediction = classifier(mel_tensor)\n",
        "        prediction = prediction.cpu().numpy()[0]\n",
        "\n",
        "    # Print results nicely\n",
        "    label_names = ['Distortion', 'Chorus', 'Delay', 'Reverb']\n",
        "    for i, label in enumerate(label_names):\n",
        "        print(f\"{label}: {'Present' if prediction[i] > 0.5 else 'Absent'} (Confidence: {prediction[i]:.2f})\")\n"
      ],
      "metadata": {
        "colab": {
          "base_uri": "https://localhost:8080/",
          "height": 200
        },
        "id": "KyhRAe5XhlvN",
        "outputId": "3a9704db-1b6f-41bf-a733-6c32cd35b30f"
      },
      "execution_count": null,
      "outputs": [
        {
          "output_type": "display_data",
          "data": {
            "text/plain": [
              "<IPython.core.display.HTML object>"
            ],
            "text/html": [
              "\n",
              "     <input type=\"file\" id=\"files-82e3f009-a98b-4c6a-9c7e-b6a92ac13219\" name=\"files[]\" multiple disabled\n",
              "        style=\"border:none\" />\n",
              "     <output id=\"result-82e3f009-a98b-4c6a-9c7e-b6a92ac13219\">\n",
              "      Upload widget is only available when the cell has been executed in the\n",
              "      current browser session. Please rerun this cell to enable.\n",
              "      </output>\n",
              "      <script>// Copyright 2017 Google LLC\n",
              "//\n",
              "// Licensed under the Apache License, Version 2.0 (the \"License\");\n",
              "// you may not use this file except in compliance with the License.\n",
              "// You may obtain a copy of the License at\n",
              "//\n",
              "//      http://www.apache.org/licenses/LICENSE-2.0\n",
              "//\n",
              "// Unless required by applicable law or agreed to in writing, software\n",
              "// distributed under the License is distributed on an \"AS IS\" BASIS,\n",
              "// WITHOUT WARRANTIES OR CONDITIONS OF ANY KIND, either express or implied.\n",
              "// See the License for the specific language governing permissions and\n",
              "// limitations under the License.\n",
              "\n",
              "/**\n",
              " * @fileoverview Helpers for google.colab Python module.\n",
              " */\n",
              "(function(scope) {\n",
              "function span(text, styleAttributes = {}) {\n",
              "  const element = document.createElement('span');\n",
              "  element.textContent = text;\n",
              "  for (const key of Object.keys(styleAttributes)) {\n",
              "    element.style[key] = styleAttributes[key];\n",
              "  }\n",
              "  return element;\n",
              "}\n",
              "\n",
              "// Max number of bytes which will be uploaded at a time.\n",
              "const MAX_PAYLOAD_SIZE = 100 * 1024;\n",
              "\n",
              "function _uploadFiles(inputId, outputId) {\n",
              "  const steps = uploadFilesStep(inputId, outputId);\n",
              "  const outputElement = document.getElementById(outputId);\n",
              "  // Cache steps on the outputElement to make it available for the next call\n",
              "  // to uploadFilesContinue from Python.\n",
              "  outputElement.steps = steps;\n",
              "\n",
              "  return _uploadFilesContinue(outputId);\n",
              "}\n",
              "\n",
              "// This is roughly an async generator (not supported in the browser yet),\n",
              "// where there are multiple asynchronous steps and the Python side is going\n",
              "// to poll for completion of each step.\n",
              "// This uses a Promise to block the python side on completion of each step,\n",
              "// then passes the result of the previous step as the input to the next step.\n",
              "function _uploadFilesContinue(outputId) {\n",
              "  const outputElement = document.getElementById(outputId);\n",
              "  const steps = outputElement.steps;\n",
              "\n",
              "  const next = steps.next(outputElement.lastPromiseValue);\n",
              "  return Promise.resolve(next.value.promise).then((value) => {\n",
              "    // Cache the last promise value to make it available to the next\n",
              "    // step of the generator.\n",
              "    outputElement.lastPromiseValue = value;\n",
              "    return next.value.response;\n",
              "  });\n",
              "}\n",
              "\n",
              "/**\n",
              " * Generator function which is called between each async step of the upload\n",
              " * process.\n",
              " * @param {string} inputId Element ID of the input file picker element.\n",
              " * @param {string} outputId Element ID of the output display.\n",
              " * @return {!Iterable<!Object>} Iterable of next steps.\n",
              " */\n",
              "function* uploadFilesStep(inputId, outputId) {\n",
              "  const inputElement = document.getElementById(inputId);\n",
              "  inputElement.disabled = false;\n",
              "\n",
              "  const outputElement = document.getElementById(outputId);\n",
              "  outputElement.innerHTML = '';\n",
              "\n",
              "  const pickedPromise = new Promise((resolve) => {\n",
              "    inputElement.addEventListener('change', (e) => {\n",
              "      resolve(e.target.files);\n",
              "    });\n",
              "  });\n",
              "\n",
              "  const cancel = document.createElement('button');\n",
              "  inputElement.parentElement.appendChild(cancel);\n",
              "  cancel.textContent = 'Cancel upload';\n",
              "  const cancelPromise = new Promise((resolve) => {\n",
              "    cancel.onclick = () => {\n",
              "      resolve(null);\n",
              "    };\n",
              "  });\n",
              "\n",
              "  // Wait for the user to pick the files.\n",
              "  const files = yield {\n",
              "    promise: Promise.race([pickedPromise, cancelPromise]),\n",
              "    response: {\n",
              "      action: 'starting',\n",
              "    }\n",
              "  };\n",
              "\n",
              "  cancel.remove();\n",
              "\n",
              "  // Disable the input element since further picks are not allowed.\n",
              "  inputElement.disabled = true;\n",
              "\n",
              "  if (!files) {\n",
              "    return {\n",
              "      response: {\n",
              "        action: 'complete',\n",
              "      }\n",
              "    };\n",
              "  }\n",
              "\n",
              "  for (const file of files) {\n",
              "    const li = document.createElement('li');\n",
              "    li.append(span(file.name, {fontWeight: 'bold'}));\n",
              "    li.append(span(\n",
              "        `(${file.type || 'n/a'}) - ${file.size} bytes, ` +\n",
              "        `last modified: ${\n",
              "            file.lastModifiedDate ? file.lastModifiedDate.toLocaleDateString() :\n",
              "                                    'n/a'} - `));\n",
              "    const percent = span('0% done');\n",
              "    li.appendChild(percent);\n",
              "\n",
              "    outputElement.appendChild(li);\n",
              "\n",
              "    const fileDataPromise = new Promise((resolve) => {\n",
              "      const reader = new FileReader();\n",
              "      reader.onload = (e) => {\n",
              "        resolve(e.target.result);\n",
              "      };\n",
              "      reader.readAsArrayBuffer(file);\n",
              "    });\n",
              "    // Wait for the data to be ready.\n",
              "    let fileData = yield {\n",
              "      promise: fileDataPromise,\n",
              "      response: {\n",
              "        action: 'continue',\n",
              "      }\n",
              "    };\n",
              "\n",
              "    // Use a chunked sending to avoid message size limits. See b/62115660.\n",
              "    let position = 0;\n",
              "    do {\n",
              "      const length = Math.min(fileData.byteLength - position, MAX_PAYLOAD_SIZE);\n",
              "      const chunk = new Uint8Array(fileData, position, length);\n",
              "      position += length;\n",
              "\n",
              "      const base64 = btoa(String.fromCharCode.apply(null, chunk));\n",
              "      yield {\n",
              "        response: {\n",
              "          action: 'append',\n",
              "          file: file.name,\n",
              "          data: base64,\n",
              "        },\n",
              "      };\n",
              "\n",
              "      let percentDone = fileData.byteLength === 0 ?\n",
              "          100 :\n",
              "          Math.round((position / fileData.byteLength) * 100);\n",
              "      percent.textContent = `${percentDone}% done`;\n",
              "\n",
              "    } while (position < fileData.byteLength);\n",
              "  }\n",
              "\n",
              "  // All done.\n",
              "  yield {\n",
              "    response: {\n",
              "      action: 'complete',\n",
              "    }\n",
              "  };\n",
              "}\n",
              "\n",
              "scope.google = scope.google || {};\n",
              "scope.google.colab = scope.google.colab || {};\n",
              "scope.google.colab._files = {\n",
              "  _uploadFiles,\n",
              "  _uploadFilesContinue,\n",
              "};\n",
              "})(self);\n",
              "</script> "
            ]
          },
          "metadata": {}
        },
        {
          "output_type": "stream",
          "name": "stdout",
          "text": [
            "Saving looperman-l-5125700-0293809-shamisen-progression-dry.wav to looperman-l-5125700-0293809-shamisen-progression-dry.wav\n",
            "Processing looperman-l-5125700-0293809-shamisen-progression-dry.wav...\n",
            "Distortion: Absent (Confidence: 0.00)\n",
            "Chorus: Present (Confidence: 0.52)\n",
            "Delay: Absent (Confidence: 0.18)\n",
            "Reverb: Absent (Confidence: 0.00)\n"
          ]
        }
      ]
    }
  ]
}